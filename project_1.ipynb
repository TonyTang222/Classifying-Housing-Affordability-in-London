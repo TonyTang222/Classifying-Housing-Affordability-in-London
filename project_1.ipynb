{
  "cells": [
    {
      "cell_type": "markdown",
      "metadata": {
        "id": "view-in-github",
        "colab_type": "text"
      },
      "source": [
        "<a href=\"https://colab.research.google.com/github/TonyTang222/Classifying-Housing-Affordability-in-London/blob/main/project_1.ipynb\" target=\"_parent\"><img src=\"https://colab.research.google.com/assets/colab-badge.svg\" alt=\"Open In Colab\"/></a>"
      ]
    },
    {
      "cell_type": "code",
      "execution_count": null,
      "id": "07931204-db5f-427b-8b91-396230cde171",
      "metadata": {
        "id": "07931204-db5f-427b-8b91-396230cde171"
      },
      "outputs": [],
      "source": [
        "import numpy as np # linear algebra\n",
        "import pandas as pd # data processing, CSV file I/O (e.g. pd.read_csv)\n",
        "\n",
        "import seaborn as sns\n",
        "import matplotlib.pyplot as plt\n",
        "# Input data files are available in the read-only \"../input/\" directory\n",
        "# For example, running this (by clicking run or pressing Shift+Enter) will list all files under the input directory\n",
        "# machine learning\n",
        "from sklearn.linear_model import LogisticRegression\n",
        "from sklearn.model_selection import train_test_split\n",
        "from sklearn.metrics import classification_report, confusion_matrix\n",
        "from sklearn.preprocessing import StandardScaler\n",
        "from sklearn.naive_bayes import GaussianNB\n",
        "from sklearn.ensemble import RandomForestClassifier\n",
        "\n",
        "\n"
      ]
    },
    {
      "cell_type": "code",
      "source": [
        "from google.colab import files\n",
        "files.upload()\n",
        "data = pd.read_csv('London.csv')\n",
        "data"
      ],
      "metadata": {
        "colab": {
          "base_uri": "https://localhost:8080/",
          "height": 479
        },
        "id": "7yfQqQ4Tdyja",
        "outputId": "adbc3629-d7ea-4fca-ee1b-2e8c17cdcd57"
      },
      "id": "7yfQqQ4Tdyja",
      "execution_count": null,
      "outputs": [
        {
          "output_type": "display_data",
          "data": {
            "text/plain": [
              "<IPython.core.display.HTML object>"
            ],
            "text/html": [
              "\n",
              "     <input type=\"file\" id=\"files-a824aabd-aa0a-454a-9d6d-b7383b0bd6ab\" name=\"files[]\" multiple disabled\n",
              "        style=\"border:none\" />\n",
              "     <output id=\"result-a824aabd-aa0a-454a-9d6d-b7383b0bd6ab\">\n",
              "      Upload widget is only available when the cell has been executed in the\n",
              "      current browser session. Please rerun this cell to enable.\n",
              "      </output>\n",
              "      <script>// Copyright 2017 Google LLC\n",
              "//\n",
              "// Licensed under the Apache License, Version 2.0 (the \"License\");\n",
              "// you may not use this file except in compliance with the License.\n",
              "// You may obtain a copy of the License at\n",
              "//\n",
              "//      http://www.apache.org/licenses/LICENSE-2.0\n",
              "//\n",
              "// Unless required by applicable law or agreed to in writing, software\n",
              "// distributed under the License is distributed on an \"AS IS\" BASIS,\n",
              "// WITHOUT WARRANTIES OR CONDITIONS OF ANY KIND, either express or implied.\n",
              "// See the License for the specific language governing permissions and\n",
              "// limitations under the License.\n",
              "\n",
              "/**\n",
              " * @fileoverview Helpers for google.colab Python module.\n",
              " */\n",
              "(function(scope) {\n",
              "function span(text, styleAttributes = {}) {\n",
              "  const element = document.createElement('span');\n",
              "  element.textContent = text;\n",
              "  for (const key of Object.keys(styleAttributes)) {\n",
              "    element.style[key] = styleAttributes[key];\n",
              "  }\n",
              "  return element;\n",
              "}\n",
              "\n",
              "// Max number of bytes which will be uploaded at a time.\n",
              "const MAX_PAYLOAD_SIZE = 100 * 1024;\n",
              "\n",
              "function _uploadFiles(inputId, outputId) {\n",
              "  const steps = uploadFilesStep(inputId, outputId);\n",
              "  const outputElement = document.getElementById(outputId);\n",
              "  // Cache steps on the outputElement to make it available for the next call\n",
              "  // to uploadFilesContinue from Python.\n",
              "  outputElement.steps = steps;\n",
              "\n",
              "  return _uploadFilesContinue(outputId);\n",
              "}\n",
              "\n",
              "// This is roughly an async generator (not supported in the browser yet),\n",
              "// where there are multiple asynchronous steps and the Python side is going\n",
              "// to poll for completion of each step.\n",
              "// This uses a Promise to block the python side on completion of each step,\n",
              "// then passes the result of the previous step as the input to the next step.\n",
              "function _uploadFilesContinue(outputId) {\n",
              "  const outputElement = document.getElementById(outputId);\n",
              "  const steps = outputElement.steps;\n",
              "\n",
              "  const next = steps.next(outputElement.lastPromiseValue);\n",
              "  return Promise.resolve(next.value.promise).then((value) => {\n",
              "    // Cache the last promise value to make it available to the next\n",
              "    // step of the generator.\n",
              "    outputElement.lastPromiseValue = value;\n",
              "    return next.value.response;\n",
              "  });\n",
              "}\n",
              "\n",
              "/**\n",
              " * Generator function which is called between each async step of the upload\n",
              " * process.\n",
              " * @param {string} inputId Element ID of the input file picker element.\n",
              " * @param {string} outputId Element ID of the output display.\n",
              " * @return {!Iterable<!Object>} Iterable of next steps.\n",
              " */\n",
              "function* uploadFilesStep(inputId, outputId) {\n",
              "  const inputElement = document.getElementById(inputId);\n",
              "  inputElement.disabled = false;\n",
              "\n",
              "  const outputElement = document.getElementById(outputId);\n",
              "  outputElement.innerHTML = '';\n",
              "\n",
              "  const pickedPromise = new Promise((resolve) => {\n",
              "    inputElement.addEventListener('change', (e) => {\n",
              "      resolve(e.target.files);\n",
              "    });\n",
              "  });\n",
              "\n",
              "  const cancel = document.createElement('button');\n",
              "  inputElement.parentElement.appendChild(cancel);\n",
              "  cancel.textContent = 'Cancel upload';\n",
              "  const cancelPromise = new Promise((resolve) => {\n",
              "    cancel.onclick = () => {\n",
              "      resolve(null);\n",
              "    };\n",
              "  });\n",
              "\n",
              "  // Wait for the user to pick the files.\n",
              "  const files = yield {\n",
              "    promise: Promise.race([pickedPromise, cancelPromise]),\n",
              "    response: {\n",
              "      action: 'starting',\n",
              "    }\n",
              "  };\n",
              "\n",
              "  cancel.remove();\n",
              "\n",
              "  // Disable the input element since further picks are not allowed.\n",
              "  inputElement.disabled = true;\n",
              "\n",
              "  if (!files) {\n",
              "    return {\n",
              "      response: {\n",
              "        action: 'complete',\n",
              "      }\n",
              "    };\n",
              "  }\n",
              "\n",
              "  for (const file of files) {\n",
              "    const li = document.createElement('li');\n",
              "    li.append(span(file.name, {fontWeight: 'bold'}));\n",
              "    li.append(span(\n",
              "        `(${file.type || 'n/a'}) - ${file.size} bytes, ` +\n",
              "        `last modified: ${\n",
              "            file.lastModifiedDate ? file.lastModifiedDate.toLocaleDateString() :\n",
              "                                    'n/a'} - `));\n",
              "    const percent = span('0% done');\n",
              "    li.appendChild(percent);\n",
              "\n",
              "    outputElement.appendChild(li);\n",
              "\n",
              "    const fileDataPromise = new Promise((resolve) => {\n",
              "      const reader = new FileReader();\n",
              "      reader.onload = (e) => {\n",
              "        resolve(e.target.result);\n",
              "      };\n",
              "      reader.readAsArrayBuffer(file);\n",
              "    });\n",
              "    // Wait for the data to be ready.\n",
              "    let fileData = yield {\n",
              "      promise: fileDataPromise,\n",
              "      response: {\n",
              "        action: 'continue',\n",
              "      }\n",
              "    };\n",
              "\n",
              "    // Use a chunked sending to avoid message size limits. See b/62115660.\n",
              "    let position = 0;\n",
              "    do {\n",
              "      const length = Math.min(fileData.byteLength - position, MAX_PAYLOAD_SIZE);\n",
              "      const chunk = new Uint8Array(fileData, position, length);\n",
              "      position += length;\n",
              "\n",
              "      const base64 = btoa(String.fromCharCode.apply(null, chunk));\n",
              "      yield {\n",
              "        response: {\n",
              "          action: 'append',\n",
              "          file: file.name,\n",
              "          data: base64,\n",
              "        },\n",
              "      };\n",
              "\n",
              "      let percentDone = fileData.byteLength === 0 ?\n",
              "          100 :\n",
              "          Math.round((position / fileData.byteLength) * 100);\n",
              "      percent.textContent = `${percentDone}% done`;\n",
              "\n",
              "    } while (position < fileData.byteLength);\n",
              "  }\n",
              "\n",
              "  // All done.\n",
              "  yield {\n",
              "    response: {\n",
              "      action: 'complete',\n",
              "    }\n",
              "  };\n",
              "}\n",
              "\n",
              "scope.google = scope.google || {};\n",
              "scope.google.colab = scope.google.colab || {};\n",
              "scope.google.colab._files = {\n",
              "  _uploadFiles,\n",
              "  _uploadFilesContinue,\n",
              "};\n",
              "})(self);\n",
              "</script> "
            ]
          },
          "metadata": {}
        },
        {
          "output_type": "stream",
          "name": "stdout",
          "text": [
            "Saving London.csv to London (1).csv\n"
          ]
        },
        {
          "output_type": "execute_result",
          "data": {
            "text/plain": [
              "      Unnamed: 0       Property Name    Price        House Type  \\\n",
              "0              0         Queens Road  1675000             House   \n",
              "1              1       Seward Street   650000  Flat / Apartment   \n",
              "2              2         Hotham Road   735000  Flat / Apartment   \n",
              "3              3        Festing Road  1765000             House   \n",
              "4              4        Spencer Walk   675000  Flat / Apartment   \n",
              "...          ...                 ...      ...               ...   \n",
              "3475        3475   One Lillie Square  3350000   New development   \n",
              "3476        3476  St. James's Street  5275000  Flat / Apartment   \n",
              "3477        3477       Ingram Avenue  5995000             House   \n",
              "3478        3478         Cork Street  6300000   New development   \n",
              "3479        3479    Courtenay Avenue  8650000             House   \n",
              "\n",
              "      Area in sq ft  No. of Bedrooms  No. of Bathrooms  No. of Receptions  \\\n",
              "0              2716                5                 5                  5   \n",
              "1               814                2                 2                  2   \n",
              "2               761                2                 2                  2   \n",
              "3              1986                4                 4                  4   \n",
              "4               700                2                 2                  2   \n",
              "...             ...              ...               ...                ...   \n",
              "3475           1410                3                 3                  3   \n",
              "3476           1749                3                 3                  3   \n",
              "3477           4435                6                 6                  6   \n",
              "3478           1506                3                 3                  3   \n",
              "3479           5395                6                 6                  6   \n",
              "\n",
              "                     Location    City/County Postal Code  \n",
              "0                   Wimbledon         London    SW19 8NY  \n",
              "1                 Clerkenwell         London    EC1V 3PA  \n",
              "2                      Putney         London    SW15 1QL  \n",
              "3                      Putney         London    SW15 1LP  \n",
              "4                      Putney         London    SW15 1PL  \n",
              "...                       ...            ...         ...  \n",
              "3475                      NaN  Lillie Square     SW6 1UE  \n",
              "3476               St James's         London    SW1A 1JT  \n",
              "3477  Hampstead Garden Suburb         London    NW11 6TG  \n",
              "3478                  Mayfair         London     W1S 3AR  \n",
              "3479                 Highgate         London      N6 4LP  \n",
              "\n",
              "[3480 rows x 11 columns]"
            ],
            "text/html": [
              "\n",
              "  <div id=\"df-2d77b80f-0eca-48e6-a82a-f8689dce9a37\" class=\"colab-df-container\">\n",
              "    <div>\n",
              "<style scoped>\n",
              "    .dataframe tbody tr th:only-of-type {\n",
              "        vertical-align: middle;\n",
              "    }\n",
              "\n",
              "    .dataframe tbody tr th {\n",
              "        vertical-align: top;\n",
              "    }\n",
              "\n",
              "    .dataframe thead th {\n",
              "        text-align: right;\n",
              "    }\n",
              "</style>\n",
              "<table border=\"1\" class=\"dataframe\">\n",
              "  <thead>\n",
              "    <tr style=\"text-align: right;\">\n",
              "      <th></th>\n",
              "      <th>Unnamed: 0</th>\n",
              "      <th>Property Name</th>\n",
              "      <th>Price</th>\n",
              "      <th>House Type</th>\n",
              "      <th>Area in sq ft</th>\n",
              "      <th>No. of Bedrooms</th>\n",
              "      <th>No. of Bathrooms</th>\n",
              "      <th>No. of Receptions</th>\n",
              "      <th>Location</th>\n",
              "      <th>City/County</th>\n",
              "      <th>Postal Code</th>\n",
              "    </tr>\n",
              "  </thead>\n",
              "  <tbody>\n",
              "    <tr>\n",
              "      <th>0</th>\n",
              "      <td>0</td>\n",
              "      <td>Queens Road</td>\n",
              "      <td>1675000</td>\n",
              "      <td>House</td>\n",
              "      <td>2716</td>\n",
              "      <td>5</td>\n",
              "      <td>5</td>\n",
              "      <td>5</td>\n",
              "      <td>Wimbledon</td>\n",
              "      <td>London</td>\n",
              "      <td>SW19 8NY</td>\n",
              "    </tr>\n",
              "    <tr>\n",
              "      <th>1</th>\n",
              "      <td>1</td>\n",
              "      <td>Seward Street</td>\n",
              "      <td>650000</td>\n",
              "      <td>Flat / Apartment</td>\n",
              "      <td>814</td>\n",
              "      <td>2</td>\n",
              "      <td>2</td>\n",
              "      <td>2</td>\n",
              "      <td>Clerkenwell</td>\n",
              "      <td>London</td>\n",
              "      <td>EC1V 3PA</td>\n",
              "    </tr>\n",
              "    <tr>\n",
              "      <th>2</th>\n",
              "      <td>2</td>\n",
              "      <td>Hotham Road</td>\n",
              "      <td>735000</td>\n",
              "      <td>Flat / Apartment</td>\n",
              "      <td>761</td>\n",
              "      <td>2</td>\n",
              "      <td>2</td>\n",
              "      <td>2</td>\n",
              "      <td>Putney</td>\n",
              "      <td>London</td>\n",
              "      <td>SW15 1QL</td>\n",
              "    </tr>\n",
              "    <tr>\n",
              "      <th>3</th>\n",
              "      <td>3</td>\n",
              "      <td>Festing Road</td>\n",
              "      <td>1765000</td>\n",
              "      <td>House</td>\n",
              "      <td>1986</td>\n",
              "      <td>4</td>\n",
              "      <td>4</td>\n",
              "      <td>4</td>\n",
              "      <td>Putney</td>\n",
              "      <td>London</td>\n",
              "      <td>SW15 1LP</td>\n",
              "    </tr>\n",
              "    <tr>\n",
              "      <th>4</th>\n",
              "      <td>4</td>\n",
              "      <td>Spencer Walk</td>\n",
              "      <td>675000</td>\n",
              "      <td>Flat / Apartment</td>\n",
              "      <td>700</td>\n",
              "      <td>2</td>\n",
              "      <td>2</td>\n",
              "      <td>2</td>\n",
              "      <td>Putney</td>\n",
              "      <td>London</td>\n",
              "      <td>SW15 1PL</td>\n",
              "    </tr>\n",
              "    <tr>\n",
              "      <th>...</th>\n",
              "      <td>...</td>\n",
              "      <td>...</td>\n",
              "      <td>...</td>\n",
              "      <td>...</td>\n",
              "      <td>...</td>\n",
              "      <td>...</td>\n",
              "      <td>...</td>\n",
              "      <td>...</td>\n",
              "      <td>...</td>\n",
              "      <td>...</td>\n",
              "      <td>...</td>\n",
              "    </tr>\n",
              "    <tr>\n",
              "      <th>3475</th>\n",
              "      <td>3475</td>\n",
              "      <td>One Lillie Square</td>\n",
              "      <td>3350000</td>\n",
              "      <td>New development</td>\n",
              "      <td>1410</td>\n",
              "      <td>3</td>\n",
              "      <td>3</td>\n",
              "      <td>3</td>\n",
              "      <td>NaN</td>\n",
              "      <td>Lillie Square</td>\n",
              "      <td>SW6 1UE</td>\n",
              "    </tr>\n",
              "    <tr>\n",
              "      <th>3476</th>\n",
              "      <td>3476</td>\n",
              "      <td>St. James's Street</td>\n",
              "      <td>5275000</td>\n",
              "      <td>Flat / Apartment</td>\n",
              "      <td>1749</td>\n",
              "      <td>3</td>\n",
              "      <td>3</td>\n",
              "      <td>3</td>\n",
              "      <td>St James's</td>\n",
              "      <td>London</td>\n",
              "      <td>SW1A 1JT</td>\n",
              "    </tr>\n",
              "    <tr>\n",
              "      <th>3477</th>\n",
              "      <td>3477</td>\n",
              "      <td>Ingram Avenue</td>\n",
              "      <td>5995000</td>\n",
              "      <td>House</td>\n",
              "      <td>4435</td>\n",
              "      <td>6</td>\n",
              "      <td>6</td>\n",
              "      <td>6</td>\n",
              "      <td>Hampstead Garden Suburb</td>\n",
              "      <td>London</td>\n",
              "      <td>NW11 6TG</td>\n",
              "    </tr>\n",
              "    <tr>\n",
              "      <th>3478</th>\n",
              "      <td>3478</td>\n",
              "      <td>Cork Street</td>\n",
              "      <td>6300000</td>\n",
              "      <td>New development</td>\n",
              "      <td>1506</td>\n",
              "      <td>3</td>\n",
              "      <td>3</td>\n",
              "      <td>3</td>\n",
              "      <td>Mayfair</td>\n",
              "      <td>London</td>\n",
              "      <td>W1S 3AR</td>\n",
              "    </tr>\n",
              "    <tr>\n",
              "      <th>3479</th>\n",
              "      <td>3479</td>\n",
              "      <td>Courtenay Avenue</td>\n",
              "      <td>8650000</td>\n",
              "      <td>House</td>\n",
              "      <td>5395</td>\n",
              "      <td>6</td>\n",
              "      <td>6</td>\n",
              "      <td>6</td>\n",
              "      <td>Highgate</td>\n",
              "      <td>London</td>\n",
              "      <td>N6 4LP</td>\n",
              "    </tr>\n",
              "  </tbody>\n",
              "</table>\n",
              "<p>3480 rows × 11 columns</p>\n",
              "</div>\n",
              "    <div class=\"colab-df-buttons\">\n",
              "\n",
              "  <div class=\"colab-df-container\">\n",
              "    <button class=\"colab-df-convert\" onclick=\"convertToInteractive('df-2d77b80f-0eca-48e6-a82a-f8689dce9a37')\"\n",
              "            title=\"Convert this dataframe to an interactive table.\"\n",
              "            style=\"display:none;\">\n",
              "\n",
              "  <svg xmlns=\"http://www.w3.org/2000/svg\" height=\"24px\" viewBox=\"0 -960 960 960\">\n",
              "    <path d=\"M120-120v-720h720v720H120Zm60-500h600v-160H180v160Zm220 220h160v-160H400v160Zm0 220h160v-160H400v160ZM180-400h160v-160H180v160Zm440 0h160v-160H620v160ZM180-180h160v-160H180v160Zm440 0h160v-160H620v160Z\"/>\n",
              "  </svg>\n",
              "    </button>\n",
              "\n",
              "  <style>\n",
              "    .colab-df-container {\n",
              "      display:flex;\n",
              "      gap: 12px;\n",
              "    }\n",
              "\n",
              "    .colab-df-convert {\n",
              "      background-color: #E8F0FE;\n",
              "      border: none;\n",
              "      border-radius: 50%;\n",
              "      cursor: pointer;\n",
              "      display: none;\n",
              "      fill: #1967D2;\n",
              "      height: 32px;\n",
              "      padding: 0 0 0 0;\n",
              "      width: 32px;\n",
              "    }\n",
              "\n",
              "    .colab-df-convert:hover {\n",
              "      background-color: #E2EBFA;\n",
              "      box-shadow: 0px 1px 2px rgba(60, 64, 67, 0.3), 0px 1px 3px 1px rgba(60, 64, 67, 0.15);\n",
              "      fill: #174EA6;\n",
              "    }\n",
              "\n",
              "    .colab-df-buttons div {\n",
              "      margin-bottom: 4px;\n",
              "    }\n",
              "\n",
              "    [theme=dark] .colab-df-convert {\n",
              "      background-color: #3B4455;\n",
              "      fill: #D2E3FC;\n",
              "    }\n",
              "\n",
              "    [theme=dark] .colab-df-convert:hover {\n",
              "      background-color: #434B5C;\n",
              "      box-shadow: 0px 1px 3px 1px rgba(0, 0, 0, 0.15);\n",
              "      filter: drop-shadow(0px 1px 2px rgba(0, 0, 0, 0.3));\n",
              "      fill: #FFFFFF;\n",
              "    }\n",
              "  </style>\n",
              "\n",
              "    <script>\n",
              "      const buttonEl =\n",
              "        document.querySelector('#df-2d77b80f-0eca-48e6-a82a-f8689dce9a37 button.colab-df-convert');\n",
              "      buttonEl.style.display =\n",
              "        google.colab.kernel.accessAllowed ? 'block' : 'none';\n",
              "\n",
              "      async function convertToInteractive(key) {\n",
              "        const element = document.querySelector('#df-2d77b80f-0eca-48e6-a82a-f8689dce9a37');\n",
              "        const dataTable =\n",
              "          await google.colab.kernel.invokeFunction('convertToInteractive',\n",
              "                                                    [key], {});\n",
              "        if (!dataTable) return;\n",
              "\n",
              "        const docLinkHtml = 'Like what you see? Visit the ' +\n",
              "          '<a target=\"_blank\" href=https://colab.research.google.com/notebooks/data_table.ipynb>data table notebook</a>'\n",
              "          + ' to learn more about interactive tables.';\n",
              "        element.innerHTML = '';\n",
              "        dataTable['output_type'] = 'display_data';\n",
              "        await google.colab.output.renderOutput(dataTable, element);\n",
              "        const docLink = document.createElement('div');\n",
              "        docLink.innerHTML = docLinkHtml;\n",
              "        element.appendChild(docLink);\n",
              "      }\n",
              "    </script>\n",
              "  </div>\n",
              "\n",
              "\n",
              "<div id=\"df-2d550a01-e22f-4cab-aba2-966181274344\">\n",
              "  <button class=\"colab-df-quickchart\" onclick=\"quickchart('df-2d550a01-e22f-4cab-aba2-966181274344')\"\n",
              "            title=\"Suggest charts\"\n",
              "            style=\"display:none;\">\n",
              "\n",
              "<svg xmlns=\"http://www.w3.org/2000/svg\" height=\"24px\"viewBox=\"0 0 24 24\"\n",
              "     width=\"24px\">\n",
              "    <g>\n",
              "        <path d=\"M19 3H5c-1.1 0-2 .9-2 2v14c0 1.1.9 2 2 2h14c1.1 0 2-.9 2-2V5c0-1.1-.9-2-2-2zM9 17H7v-7h2v7zm4 0h-2V7h2v10zm4 0h-2v-4h2v4z\"/>\n",
              "    </g>\n",
              "</svg>\n",
              "  </button>\n",
              "\n",
              "<style>\n",
              "  .colab-df-quickchart {\n",
              "      --bg-color: #E8F0FE;\n",
              "      --fill-color: #1967D2;\n",
              "      --hover-bg-color: #E2EBFA;\n",
              "      --hover-fill-color: #174EA6;\n",
              "      --disabled-fill-color: #AAA;\n",
              "      --disabled-bg-color: #DDD;\n",
              "  }\n",
              "\n",
              "  [theme=dark] .colab-df-quickchart {\n",
              "      --bg-color: #3B4455;\n",
              "      --fill-color: #D2E3FC;\n",
              "      --hover-bg-color: #434B5C;\n",
              "      --hover-fill-color: #FFFFFF;\n",
              "      --disabled-bg-color: #3B4455;\n",
              "      --disabled-fill-color: #666;\n",
              "  }\n",
              "\n",
              "  .colab-df-quickchart {\n",
              "    background-color: var(--bg-color);\n",
              "    border: none;\n",
              "    border-radius: 50%;\n",
              "    cursor: pointer;\n",
              "    display: none;\n",
              "    fill: var(--fill-color);\n",
              "    height: 32px;\n",
              "    padding: 0;\n",
              "    width: 32px;\n",
              "  }\n",
              "\n",
              "  .colab-df-quickchart:hover {\n",
              "    background-color: var(--hover-bg-color);\n",
              "    box-shadow: 0 1px 2px rgba(60, 64, 67, 0.3), 0 1px 3px 1px rgba(60, 64, 67, 0.15);\n",
              "    fill: var(--button-hover-fill-color);\n",
              "  }\n",
              "\n",
              "  .colab-df-quickchart-complete:disabled,\n",
              "  .colab-df-quickchart-complete:disabled:hover {\n",
              "    background-color: var(--disabled-bg-color);\n",
              "    fill: var(--disabled-fill-color);\n",
              "    box-shadow: none;\n",
              "  }\n",
              "\n",
              "  .colab-df-spinner {\n",
              "    border: 2px solid var(--fill-color);\n",
              "    border-color: transparent;\n",
              "    border-bottom-color: var(--fill-color);\n",
              "    animation:\n",
              "      spin 1s steps(1) infinite;\n",
              "  }\n",
              "\n",
              "  @keyframes spin {\n",
              "    0% {\n",
              "      border-color: transparent;\n",
              "      border-bottom-color: var(--fill-color);\n",
              "      border-left-color: var(--fill-color);\n",
              "    }\n",
              "    20% {\n",
              "      border-color: transparent;\n",
              "      border-left-color: var(--fill-color);\n",
              "      border-top-color: var(--fill-color);\n",
              "    }\n",
              "    30% {\n",
              "      border-color: transparent;\n",
              "      border-left-color: var(--fill-color);\n",
              "      border-top-color: var(--fill-color);\n",
              "      border-right-color: var(--fill-color);\n",
              "    }\n",
              "    40% {\n",
              "      border-color: transparent;\n",
              "      border-right-color: var(--fill-color);\n",
              "      border-top-color: var(--fill-color);\n",
              "    }\n",
              "    60% {\n",
              "      border-color: transparent;\n",
              "      border-right-color: var(--fill-color);\n",
              "    }\n",
              "    80% {\n",
              "      border-color: transparent;\n",
              "      border-right-color: var(--fill-color);\n",
              "      border-bottom-color: var(--fill-color);\n",
              "    }\n",
              "    90% {\n",
              "      border-color: transparent;\n",
              "      border-bottom-color: var(--fill-color);\n",
              "    }\n",
              "  }\n",
              "</style>\n",
              "\n",
              "  <script>\n",
              "    async function quickchart(key) {\n",
              "      const quickchartButtonEl =\n",
              "        document.querySelector('#' + key + ' button');\n",
              "      quickchartButtonEl.disabled = true;  // To prevent multiple clicks.\n",
              "      quickchartButtonEl.classList.add('colab-df-spinner');\n",
              "      try {\n",
              "        const charts = await google.colab.kernel.invokeFunction(\n",
              "            'suggestCharts', [key], {});\n",
              "      } catch (error) {\n",
              "        console.error('Error during call to suggestCharts:', error);\n",
              "      }\n",
              "      quickchartButtonEl.classList.remove('colab-df-spinner');\n",
              "      quickchartButtonEl.classList.add('colab-df-quickchart-complete');\n",
              "    }\n",
              "    (() => {\n",
              "      let quickchartButtonEl =\n",
              "        document.querySelector('#df-2d550a01-e22f-4cab-aba2-966181274344 button');\n",
              "      quickchartButtonEl.style.display =\n",
              "        google.colab.kernel.accessAllowed ? 'block' : 'none';\n",
              "    })();\n",
              "  </script>\n",
              "</div>\n",
              "\n",
              "  <div id=\"id_97788245-a7d4-43ae-aee0-b7c8cb7ae01f\">\n",
              "    <style>\n",
              "      .colab-df-generate {\n",
              "        background-color: #E8F0FE;\n",
              "        border: none;\n",
              "        border-radius: 50%;\n",
              "        cursor: pointer;\n",
              "        display: none;\n",
              "        fill: #1967D2;\n",
              "        height: 32px;\n",
              "        padding: 0 0 0 0;\n",
              "        width: 32px;\n",
              "      }\n",
              "\n",
              "      .colab-df-generate:hover {\n",
              "        background-color: #E2EBFA;\n",
              "        box-shadow: 0px 1px 2px rgba(60, 64, 67, 0.3), 0px 1px 3px 1px rgba(60, 64, 67, 0.15);\n",
              "        fill: #174EA6;\n",
              "      }\n",
              "\n",
              "      [theme=dark] .colab-df-generate {\n",
              "        background-color: #3B4455;\n",
              "        fill: #D2E3FC;\n",
              "      }\n",
              "\n",
              "      [theme=dark] .colab-df-generate:hover {\n",
              "        background-color: #434B5C;\n",
              "        box-shadow: 0px 1px 3px 1px rgba(0, 0, 0, 0.15);\n",
              "        filter: drop-shadow(0px 1px 2px rgba(0, 0, 0, 0.3));\n",
              "        fill: #FFFFFF;\n",
              "      }\n",
              "    </style>\n",
              "    <button class=\"colab-df-generate\" onclick=\"generateWithVariable('data')\"\n",
              "            title=\"Generate code using this dataframe.\"\n",
              "            style=\"display:none;\">\n",
              "\n",
              "  <svg xmlns=\"http://www.w3.org/2000/svg\" height=\"24px\"viewBox=\"0 0 24 24\"\n",
              "       width=\"24px\">\n",
              "    <path d=\"M7,19H8.4L18.45,9,17,7.55,7,17.6ZM5,21V16.75L18.45,3.32a2,2,0,0,1,2.83,0l1.4,1.43a1.91,1.91,0,0,1,.58,1.4,1.91,1.91,0,0,1-.58,1.4L9.25,21ZM18.45,9,17,7.55Zm-12,3A5.31,5.31,0,0,0,4.9,8.1,5.31,5.31,0,0,0,1,6.5,5.31,5.31,0,0,0,4.9,4.9,5.31,5.31,0,0,0,6.5,1,5.31,5.31,0,0,0,8.1,4.9,5.31,5.31,0,0,0,12,6.5,5.46,5.46,0,0,0,6.5,12Z\"/>\n",
              "  </svg>\n",
              "    </button>\n",
              "    <script>\n",
              "      (() => {\n",
              "      const buttonEl =\n",
              "        document.querySelector('#id_97788245-a7d4-43ae-aee0-b7c8cb7ae01f button.colab-df-generate');\n",
              "      buttonEl.style.display =\n",
              "        google.colab.kernel.accessAllowed ? 'block' : 'none';\n",
              "\n",
              "      buttonEl.onclick = () => {\n",
              "        google.colab.notebook.generateWithVariable('data');\n",
              "      }\n",
              "      })();\n",
              "    </script>\n",
              "  </div>\n",
              "\n",
              "    </div>\n",
              "  </div>\n"
            ],
            "application/vnd.google.colaboratory.intrinsic+json": {
              "type": "dataframe",
              "variable_name": "data",
              "summary": "{\n  \"name\": \"data\",\n  \"rows\": 3480,\n  \"fields\": [\n    {\n      \"column\": \"Unnamed: 0\",\n      \"properties\": {\n        \"dtype\": \"number\",\n        \"std\": 1004,\n        \"min\": 0,\n        \"max\": 3479,\n        \"num_unique_values\": 3480,\n        \"samples\": [\n          2457,\n          1114,\n          1298\n        ],\n        \"semantic_type\": \"\",\n        \"description\": \"\"\n      }\n    },\n    {\n      \"column\": \"Property Name\",\n      \"properties\": {\n        \"dtype\": \"string\",\n        \"num_unique_values\": 2380,\n        \"samples\": [\n          \"Allfarthing Lane\",\n          \"Queen's Gate Terrace\",\n          \"College Court\"\n        ],\n        \"semantic_type\": \"\",\n        \"description\": \"\"\n      }\n    },\n    {\n      \"column\": \"Price\",\n      \"properties\": {\n        \"dtype\": \"number\",\n        \"std\": 2267282,\n        \"min\": 180000,\n        \"max\": 39750000,\n        \"num_unique_values\": 536,\n        \"samples\": [\n          752500,\n          2700000,\n          1375000\n        ],\n        \"semantic_type\": \"\",\n        \"description\": \"\"\n      }\n    },\n    {\n      \"column\": \"House Type\",\n      \"properties\": {\n        \"dtype\": \"category\",\n        \"num_unique_values\": 8,\n        \"samples\": [\n          \"Flat / Apartment\",\n          \"Studio\",\n          \"House\"\n        ],\n        \"semantic_type\": \"\",\n        \"description\": \"\"\n      }\n    },\n    {\n      \"column\": \"Area in sq ft\",\n      \"properties\": {\n        \"dtype\": \"number\",\n        \"std\": 1364,\n        \"min\": 274,\n        \"max\": 15405,\n        \"num_unique_values\": 2034,\n        \"samples\": [\n          2131,\n          654,\n          1063\n        ],\n        \"semantic_type\": \"\",\n        \"description\": \"\"\n      }\n    },\n    {\n      \"column\": \"No. of Bedrooms\",\n      \"properties\": {\n        \"dtype\": \"number\",\n        \"std\": 1,\n        \"min\": 0,\n        \"max\": 10,\n        \"num_unique_values\": 11,\n        \"samples\": [\n          6,\n          5,\n          8\n        ],\n        \"semantic_type\": \"\",\n        \"description\": \"\"\n      }\n    },\n    {\n      \"column\": \"No. of Bathrooms\",\n      \"properties\": {\n        \"dtype\": \"number\",\n        \"std\": 1,\n        \"min\": 0,\n        \"max\": 10,\n        \"num_unique_values\": 11,\n        \"samples\": [\n          6,\n          5,\n          8\n        ],\n        \"semantic_type\": \"\",\n        \"description\": \"\"\n      }\n    },\n    {\n      \"column\": \"No. of Receptions\",\n      \"properties\": {\n        \"dtype\": \"number\",\n        \"std\": 1,\n        \"min\": 0,\n        \"max\": 10,\n        \"num_unique_values\": 11,\n        \"samples\": [\n          6,\n          5,\n          8\n        ],\n        \"semantic_type\": \"\",\n        \"description\": \"\"\n      }\n    },\n    {\n      \"column\": \"Location\",\n      \"properties\": {\n        \"dtype\": \"category\",\n        \"num_unique_values\": 656,\n        \"samples\": [\n          \"27 Frampton Park Road\",\n          \"Water Lane\",\n          \"2 Gatliff Road\"\n        ],\n        \"semantic_type\": \"\",\n        \"description\": \"\"\n      }\n    },\n    {\n      \"column\": \"City/County\",\n      \"properties\": {\n        \"dtype\": \"category\",\n        \"num_unique_values\": 57,\n        \"samples\": [\n          \"London\",\n          \"Clapton\",\n          \"Fitzrovia\"\n        ],\n        \"semantic_type\": \"\",\n        \"description\": \"\"\n      }\n    },\n    {\n      \"column\": \"Postal Code\",\n      \"properties\": {\n        \"dtype\": \"string\",\n        \"num_unique_values\": 2845,\n        \"samples\": [\n          \"SW4 9HU\",\n          \"SE16 5UA\",\n          \"W1H 2LW\"\n        ],\n        \"semantic_type\": \"\",\n        \"description\": \"\"\n      }\n    }\n  ]\n}"
            }
          },
          "metadata": {},
          "execution_count": 7
        }
      ]
    },
    {
      "cell_type": "code",
      "source": [
        "# describe\n",
        "data.describe()"
      ],
      "metadata": {
        "id": "xzyVNKsJgUwI",
        "colab": {
          "base_uri": "https://localhost:8080/",
          "height": 300
        },
        "outputId": "324a213e-1454-4edc-b161-448ab02b27b8"
      },
      "id": "xzyVNKsJgUwI",
      "execution_count": null,
      "outputs": [
        {
          "output_type": "execute_result",
          "data": {
            "text/plain": [
              "        Unnamed: 0         Price  Area in sq ft  No. of Bedrooms  \\\n",
              "count  3480.000000  3.480000e+03    3480.000000      3480.000000   \n",
              "mean   1739.500000  1.864173e+06    1712.973563         3.103736   \n",
              "std    1004.733796  2.267283e+06    1364.259351         1.517698   \n",
              "min       0.000000  1.800000e+05     274.000000         0.000000   \n",
              "25%     869.750000  7.500000e+05     834.000000         2.000000   \n",
              "50%    1739.500000  1.220000e+06    1310.000000         3.000000   \n",
              "75%    2609.250000  2.150000e+06    2157.250000         4.000000   \n",
              "max    3479.000000  3.975000e+07   15405.000000        10.000000   \n",
              "\n",
              "       No. of Bathrooms  No. of Receptions  \n",
              "count       3480.000000        3480.000000  \n",
              "mean           3.103736           3.103736  \n",
              "std            1.517698           1.517698  \n",
              "min            0.000000           0.000000  \n",
              "25%            2.000000           2.000000  \n",
              "50%            3.000000           3.000000  \n",
              "75%            4.000000           4.000000  \n",
              "max           10.000000          10.000000  "
            ],
            "text/html": [
              "\n",
              "  <div id=\"df-262876e3-5a88-40b3-9b69-bd8010ff3645\" class=\"colab-df-container\">\n",
              "    <div>\n",
              "<style scoped>\n",
              "    .dataframe tbody tr th:only-of-type {\n",
              "        vertical-align: middle;\n",
              "    }\n",
              "\n",
              "    .dataframe tbody tr th {\n",
              "        vertical-align: top;\n",
              "    }\n",
              "\n",
              "    .dataframe thead th {\n",
              "        text-align: right;\n",
              "    }\n",
              "</style>\n",
              "<table border=\"1\" class=\"dataframe\">\n",
              "  <thead>\n",
              "    <tr style=\"text-align: right;\">\n",
              "      <th></th>\n",
              "      <th>Unnamed: 0</th>\n",
              "      <th>Price</th>\n",
              "      <th>Area in sq ft</th>\n",
              "      <th>No. of Bedrooms</th>\n",
              "      <th>No. of Bathrooms</th>\n",
              "      <th>No. of Receptions</th>\n",
              "    </tr>\n",
              "  </thead>\n",
              "  <tbody>\n",
              "    <tr>\n",
              "      <th>count</th>\n",
              "      <td>3480.000000</td>\n",
              "      <td>3.480000e+03</td>\n",
              "      <td>3480.000000</td>\n",
              "      <td>3480.000000</td>\n",
              "      <td>3480.000000</td>\n",
              "      <td>3480.000000</td>\n",
              "    </tr>\n",
              "    <tr>\n",
              "      <th>mean</th>\n",
              "      <td>1739.500000</td>\n",
              "      <td>1.864173e+06</td>\n",
              "      <td>1712.973563</td>\n",
              "      <td>3.103736</td>\n",
              "      <td>3.103736</td>\n",
              "      <td>3.103736</td>\n",
              "    </tr>\n",
              "    <tr>\n",
              "      <th>std</th>\n",
              "      <td>1004.733796</td>\n",
              "      <td>2.267283e+06</td>\n",
              "      <td>1364.259351</td>\n",
              "      <td>1.517698</td>\n",
              "      <td>1.517698</td>\n",
              "      <td>1.517698</td>\n",
              "    </tr>\n",
              "    <tr>\n",
              "      <th>min</th>\n",
              "      <td>0.000000</td>\n",
              "      <td>1.800000e+05</td>\n",
              "      <td>274.000000</td>\n",
              "      <td>0.000000</td>\n",
              "      <td>0.000000</td>\n",
              "      <td>0.000000</td>\n",
              "    </tr>\n",
              "    <tr>\n",
              "      <th>25%</th>\n",
              "      <td>869.750000</td>\n",
              "      <td>7.500000e+05</td>\n",
              "      <td>834.000000</td>\n",
              "      <td>2.000000</td>\n",
              "      <td>2.000000</td>\n",
              "      <td>2.000000</td>\n",
              "    </tr>\n",
              "    <tr>\n",
              "      <th>50%</th>\n",
              "      <td>1739.500000</td>\n",
              "      <td>1.220000e+06</td>\n",
              "      <td>1310.000000</td>\n",
              "      <td>3.000000</td>\n",
              "      <td>3.000000</td>\n",
              "      <td>3.000000</td>\n",
              "    </tr>\n",
              "    <tr>\n",
              "      <th>75%</th>\n",
              "      <td>2609.250000</td>\n",
              "      <td>2.150000e+06</td>\n",
              "      <td>2157.250000</td>\n",
              "      <td>4.000000</td>\n",
              "      <td>4.000000</td>\n",
              "      <td>4.000000</td>\n",
              "    </tr>\n",
              "    <tr>\n",
              "      <th>max</th>\n",
              "      <td>3479.000000</td>\n",
              "      <td>3.975000e+07</td>\n",
              "      <td>15405.000000</td>\n",
              "      <td>10.000000</td>\n",
              "      <td>10.000000</td>\n",
              "      <td>10.000000</td>\n",
              "    </tr>\n",
              "  </tbody>\n",
              "</table>\n",
              "</div>\n",
              "    <div class=\"colab-df-buttons\">\n",
              "\n",
              "  <div class=\"colab-df-container\">\n",
              "    <button class=\"colab-df-convert\" onclick=\"convertToInteractive('df-262876e3-5a88-40b3-9b69-bd8010ff3645')\"\n",
              "            title=\"Convert this dataframe to an interactive table.\"\n",
              "            style=\"display:none;\">\n",
              "\n",
              "  <svg xmlns=\"http://www.w3.org/2000/svg\" height=\"24px\" viewBox=\"0 -960 960 960\">\n",
              "    <path d=\"M120-120v-720h720v720H120Zm60-500h600v-160H180v160Zm220 220h160v-160H400v160Zm0 220h160v-160H400v160ZM180-400h160v-160H180v160Zm440 0h160v-160H620v160ZM180-180h160v-160H180v160Zm440 0h160v-160H620v160Z\"/>\n",
              "  </svg>\n",
              "    </button>\n",
              "\n",
              "  <style>\n",
              "    .colab-df-container {\n",
              "      display:flex;\n",
              "      gap: 12px;\n",
              "    }\n",
              "\n",
              "    .colab-df-convert {\n",
              "      background-color: #E8F0FE;\n",
              "      border: none;\n",
              "      border-radius: 50%;\n",
              "      cursor: pointer;\n",
              "      display: none;\n",
              "      fill: #1967D2;\n",
              "      height: 32px;\n",
              "      padding: 0 0 0 0;\n",
              "      width: 32px;\n",
              "    }\n",
              "\n",
              "    .colab-df-convert:hover {\n",
              "      background-color: #E2EBFA;\n",
              "      box-shadow: 0px 1px 2px rgba(60, 64, 67, 0.3), 0px 1px 3px 1px rgba(60, 64, 67, 0.15);\n",
              "      fill: #174EA6;\n",
              "    }\n",
              "\n",
              "    .colab-df-buttons div {\n",
              "      margin-bottom: 4px;\n",
              "    }\n",
              "\n",
              "    [theme=dark] .colab-df-convert {\n",
              "      background-color: #3B4455;\n",
              "      fill: #D2E3FC;\n",
              "    }\n",
              "\n",
              "    [theme=dark] .colab-df-convert:hover {\n",
              "      background-color: #434B5C;\n",
              "      box-shadow: 0px 1px 3px 1px rgba(0, 0, 0, 0.15);\n",
              "      filter: drop-shadow(0px 1px 2px rgba(0, 0, 0, 0.3));\n",
              "      fill: #FFFFFF;\n",
              "    }\n",
              "  </style>\n",
              "\n",
              "    <script>\n",
              "      const buttonEl =\n",
              "        document.querySelector('#df-262876e3-5a88-40b3-9b69-bd8010ff3645 button.colab-df-convert');\n",
              "      buttonEl.style.display =\n",
              "        google.colab.kernel.accessAllowed ? 'block' : 'none';\n",
              "\n",
              "      async function convertToInteractive(key) {\n",
              "        const element = document.querySelector('#df-262876e3-5a88-40b3-9b69-bd8010ff3645');\n",
              "        const dataTable =\n",
              "          await google.colab.kernel.invokeFunction('convertToInteractive',\n",
              "                                                    [key], {});\n",
              "        if (!dataTable) return;\n",
              "\n",
              "        const docLinkHtml = 'Like what you see? Visit the ' +\n",
              "          '<a target=\"_blank\" href=https://colab.research.google.com/notebooks/data_table.ipynb>data table notebook</a>'\n",
              "          + ' to learn more about interactive tables.';\n",
              "        element.innerHTML = '';\n",
              "        dataTable['output_type'] = 'display_data';\n",
              "        await google.colab.output.renderOutput(dataTable, element);\n",
              "        const docLink = document.createElement('div');\n",
              "        docLink.innerHTML = docLinkHtml;\n",
              "        element.appendChild(docLink);\n",
              "      }\n",
              "    </script>\n",
              "  </div>\n",
              "\n",
              "\n",
              "<div id=\"df-fd30d381-1e9b-4979-a6b8-2e4a6e2cbfa8\">\n",
              "  <button class=\"colab-df-quickchart\" onclick=\"quickchart('df-fd30d381-1e9b-4979-a6b8-2e4a6e2cbfa8')\"\n",
              "            title=\"Suggest charts\"\n",
              "            style=\"display:none;\">\n",
              "\n",
              "<svg xmlns=\"http://www.w3.org/2000/svg\" height=\"24px\"viewBox=\"0 0 24 24\"\n",
              "     width=\"24px\">\n",
              "    <g>\n",
              "        <path d=\"M19 3H5c-1.1 0-2 .9-2 2v14c0 1.1.9 2 2 2h14c1.1 0 2-.9 2-2V5c0-1.1-.9-2-2-2zM9 17H7v-7h2v7zm4 0h-2V7h2v10zm4 0h-2v-4h2v4z\"/>\n",
              "    </g>\n",
              "</svg>\n",
              "  </button>\n",
              "\n",
              "<style>\n",
              "  .colab-df-quickchart {\n",
              "      --bg-color: #E8F0FE;\n",
              "      --fill-color: #1967D2;\n",
              "      --hover-bg-color: #E2EBFA;\n",
              "      --hover-fill-color: #174EA6;\n",
              "      --disabled-fill-color: #AAA;\n",
              "      --disabled-bg-color: #DDD;\n",
              "  }\n",
              "\n",
              "  [theme=dark] .colab-df-quickchart {\n",
              "      --bg-color: #3B4455;\n",
              "      --fill-color: #D2E3FC;\n",
              "      --hover-bg-color: #434B5C;\n",
              "      --hover-fill-color: #FFFFFF;\n",
              "      --disabled-bg-color: #3B4455;\n",
              "      --disabled-fill-color: #666;\n",
              "  }\n",
              "\n",
              "  .colab-df-quickchart {\n",
              "    background-color: var(--bg-color);\n",
              "    border: none;\n",
              "    border-radius: 50%;\n",
              "    cursor: pointer;\n",
              "    display: none;\n",
              "    fill: var(--fill-color);\n",
              "    height: 32px;\n",
              "    padding: 0;\n",
              "    width: 32px;\n",
              "  }\n",
              "\n",
              "  .colab-df-quickchart:hover {\n",
              "    background-color: var(--hover-bg-color);\n",
              "    box-shadow: 0 1px 2px rgba(60, 64, 67, 0.3), 0 1px 3px 1px rgba(60, 64, 67, 0.15);\n",
              "    fill: var(--button-hover-fill-color);\n",
              "  }\n",
              "\n",
              "  .colab-df-quickchart-complete:disabled,\n",
              "  .colab-df-quickchart-complete:disabled:hover {\n",
              "    background-color: var(--disabled-bg-color);\n",
              "    fill: var(--disabled-fill-color);\n",
              "    box-shadow: none;\n",
              "  }\n",
              "\n",
              "  .colab-df-spinner {\n",
              "    border: 2px solid var(--fill-color);\n",
              "    border-color: transparent;\n",
              "    border-bottom-color: var(--fill-color);\n",
              "    animation:\n",
              "      spin 1s steps(1) infinite;\n",
              "  }\n",
              "\n",
              "  @keyframes spin {\n",
              "    0% {\n",
              "      border-color: transparent;\n",
              "      border-bottom-color: var(--fill-color);\n",
              "      border-left-color: var(--fill-color);\n",
              "    }\n",
              "    20% {\n",
              "      border-color: transparent;\n",
              "      border-left-color: var(--fill-color);\n",
              "      border-top-color: var(--fill-color);\n",
              "    }\n",
              "    30% {\n",
              "      border-color: transparent;\n",
              "      border-left-color: var(--fill-color);\n",
              "      border-top-color: var(--fill-color);\n",
              "      border-right-color: var(--fill-color);\n",
              "    }\n",
              "    40% {\n",
              "      border-color: transparent;\n",
              "      border-right-color: var(--fill-color);\n",
              "      border-top-color: var(--fill-color);\n",
              "    }\n",
              "    60% {\n",
              "      border-color: transparent;\n",
              "      border-right-color: var(--fill-color);\n",
              "    }\n",
              "    80% {\n",
              "      border-color: transparent;\n",
              "      border-right-color: var(--fill-color);\n",
              "      border-bottom-color: var(--fill-color);\n",
              "    }\n",
              "    90% {\n",
              "      border-color: transparent;\n",
              "      border-bottom-color: var(--fill-color);\n",
              "    }\n",
              "  }\n",
              "</style>\n",
              "\n",
              "  <script>\n",
              "    async function quickchart(key) {\n",
              "      const quickchartButtonEl =\n",
              "        document.querySelector('#' + key + ' button');\n",
              "      quickchartButtonEl.disabled = true;  // To prevent multiple clicks.\n",
              "      quickchartButtonEl.classList.add('colab-df-spinner');\n",
              "      try {\n",
              "        const charts = await google.colab.kernel.invokeFunction(\n",
              "            'suggestCharts', [key], {});\n",
              "      } catch (error) {\n",
              "        console.error('Error during call to suggestCharts:', error);\n",
              "      }\n",
              "      quickchartButtonEl.classList.remove('colab-df-spinner');\n",
              "      quickchartButtonEl.classList.add('colab-df-quickchart-complete');\n",
              "    }\n",
              "    (() => {\n",
              "      let quickchartButtonEl =\n",
              "        document.querySelector('#df-fd30d381-1e9b-4979-a6b8-2e4a6e2cbfa8 button');\n",
              "      quickchartButtonEl.style.display =\n",
              "        google.colab.kernel.accessAllowed ? 'block' : 'none';\n",
              "    })();\n",
              "  </script>\n",
              "</div>\n",
              "\n",
              "    </div>\n",
              "  </div>\n"
            ],
            "application/vnd.google.colaboratory.intrinsic+json": {
              "type": "dataframe",
              "summary": "{\n  \"name\": \"data\",\n  \"rows\": 8,\n  \"fields\": [\n    {\n      \"column\": \"Unnamed: 0\",\n      \"properties\": {\n        \"dtype\": \"number\",\n        \"std\": 1253.9899003748387,\n        \"min\": 0.0,\n        \"max\": 3480.0,\n        \"num_unique_values\": 7,\n        \"samples\": [\n          3480.0,\n          1739.5,\n          2609.25\n        ],\n        \"semantic_type\": \"\",\n        \"description\": \"\"\n      }\n    },\n    {\n      \"column\": \"Price\",\n      \"properties\": {\n        \"dtype\": \"number\",\n        \"std\": 13654724.573577806,\n        \"min\": 3480.0,\n        \"max\": 39750000.0,\n        \"num_unique_values\": 8,\n        \"samples\": [\n          1864172.5399425288,\n          1220000.0,\n          3480.0\n        ],\n        \"semantic_type\": \"\",\n        \"description\": \"\"\n      }\n    },\n    {\n      \"column\": \"Area in sq ft\",\n      \"properties\": {\n        \"dtype\": \"number\",\n        \"std\": 4976.094519057551,\n        \"min\": 274.0,\n        \"max\": 15405.0,\n        \"num_unique_values\": 8,\n        \"samples\": [\n          1712.9735632183908,\n          1310.0,\n          3480.0\n        ],\n        \"semantic_type\": \"\",\n        \"description\": \"\"\n      }\n    },\n    {\n      \"column\": \"No. of Bedrooms\",\n      \"properties\": {\n        \"dtype\": \"number\",\n        \"std\": 1229.1762946318738,\n        \"min\": 0.0,\n        \"max\": 3480.0,\n        \"num_unique_values\": 8,\n        \"samples\": [\n          3.1037356321839082,\n          3.0,\n          3480.0\n        ],\n        \"semantic_type\": \"\",\n        \"description\": \"\"\n      }\n    },\n    {\n      \"column\": \"No. of Bathrooms\",\n      \"properties\": {\n        \"dtype\": \"number\",\n        \"std\": 1229.1762946318738,\n        \"min\": 0.0,\n        \"max\": 3480.0,\n        \"num_unique_values\": 8,\n        \"samples\": [\n          3.1037356321839082,\n          3.0,\n          3480.0\n        ],\n        \"semantic_type\": \"\",\n        \"description\": \"\"\n      }\n    },\n    {\n      \"column\": \"No. of Receptions\",\n      \"properties\": {\n        \"dtype\": \"number\",\n        \"std\": 1229.1762946318738,\n        \"min\": 0.0,\n        \"max\": 3480.0,\n        \"num_unique_values\": 8,\n        \"samples\": [\n          3.1037356321839082,\n          3.0,\n          3480.0\n        ],\n        \"semantic_type\": \"\",\n        \"description\": \"\"\n      }\n    }\n  ]\n}"
            }
          },
          "metadata": {},
          "execution_count": 8
        }
      ]
    },
    {
      "cell_type": "code",
      "source": [
        "# info\n",
        "data.info()"
      ],
      "metadata": {
        "id": "wDdK4AaugeFe",
        "colab": {
          "base_uri": "https://localhost:8080/"
        },
        "outputId": "69e8f9ad-62ad-4b13-ee15-2e95e23a6f79"
      },
      "id": "wDdK4AaugeFe",
      "execution_count": null,
      "outputs": [
        {
          "output_type": "stream",
          "name": "stdout",
          "text": [
            "<class 'pandas.core.frame.DataFrame'>\n",
            "RangeIndex: 3480 entries, 0 to 3479\n",
            "Data columns (total 11 columns):\n",
            " #   Column             Non-Null Count  Dtype \n",
            "---  ------             --------------  ----- \n",
            " 0   Unnamed: 0         3480 non-null   int64 \n",
            " 1   Property Name      3480 non-null   object\n",
            " 2   Price              3480 non-null   int64 \n",
            " 3   House Type         3480 non-null   object\n",
            " 4   Area in sq ft      3480 non-null   int64 \n",
            " 5   No. of Bedrooms    3480 non-null   int64 \n",
            " 6   No. of Bathrooms   3480 non-null   int64 \n",
            " 7   No. of Receptions  3480 non-null   int64 \n",
            " 8   Location           2518 non-null   object\n",
            " 9   City/County        3480 non-null   object\n",
            " 10  Postal Code        3480 non-null   object\n",
            "dtypes: int64(6), object(5)\n",
            "memory usage: 299.2+ KB\n"
          ]
        }
      ]
    },
    {
      "cell_type": "code",
      "source": [
        "data = data.drop_duplicates()"
      ],
      "metadata": {
        "id": "FAL9o1AXtO-V"
      },
      "id": "FAL9o1AXtO-V",
      "execution_count": null,
      "outputs": []
    },
    {
      "cell_type": "code",
      "source": [
        "data.isnull().sum()"
      ],
      "metadata": {
        "id": "jfHFloKnhE_C",
        "colab": {
          "base_uri": "https://localhost:8080/",
          "height": 429
        },
        "outputId": "67a32824-dd9d-4b51-8a7e-95b2a23e0423"
      },
      "id": "jfHFloKnhE_C",
      "execution_count": null,
      "outputs": [
        {
          "output_type": "execute_result",
          "data": {
            "text/plain": [
              "Unnamed: 0             0\n",
              "Property Name          0\n",
              "Price                  0\n",
              "House Type             0\n",
              "Area in sq ft          0\n",
              "No. of Bedrooms        0\n",
              "No. of Bathrooms       0\n",
              "No. of Receptions      0\n",
              "Location             962\n",
              "City/County            0\n",
              "Postal Code            0\n",
              "dtype: int64"
            ],
            "text/html": [
              "<div>\n",
              "<style scoped>\n",
              "    .dataframe tbody tr th:only-of-type {\n",
              "        vertical-align: middle;\n",
              "    }\n",
              "\n",
              "    .dataframe tbody tr th {\n",
              "        vertical-align: top;\n",
              "    }\n",
              "\n",
              "    .dataframe thead th {\n",
              "        text-align: right;\n",
              "    }\n",
              "</style>\n",
              "<table border=\"1\" class=\"dataframe\">\n",
              "  <thead>\n",
              "    <tr style=\"text-align: right;\">\n",
              "      <th></th>\n",
              "      <th>0</th>\n",
              "    </tr>\n",
              "  </thead>\n",
              "  <tbody>\n",
              "    <tr>\n",
              "      <th>Unnamed: 0</th>\n",
              "      <td>0</td>\n",
              "    </tr>\n",
              "    <tr>\n",
              "      <th>Property Name</th>\n",
              "      <td>0</td>\n",
              "    </tr>\n",
              "    <tr>\n",
              "      <th>Price</th>\n",
              "      <td>0</td>\n",
              "    </tr>\n",
              "    <tr>\n",
              "      <th>House Type</th>\n",
              "      <td>0</td>\n",
              "    </tr>\n",
              "    <tr>\n",
              "      <th>Area in sq ft</th>\n",
              "      <td>0</td>\n",
              "    </tr>\n",
              "    <tr>\n",
              "      <th>No. of Bedrooms</th>\n",
              "      <td>0</td>\n",
              "    </tr>\n",
              "    <tr>\n",
              "      <th>No. of Bathrooms</th>\n",
              "      <td>0</td>\n",
              "    </tr>\n",
              "    <tr>\n",
              "      <th>No. of Receptions</th>\n",
              "      <td>0</td>\n",
              "    </tr>\n",
              "    <tr>\n",
              "      <th>Location</th>\n",
              "      <td>962</td>\n",
              "    </tr>\n",
              "    <tr>\n",
              "      <th>City/County</th>\n",
              "      <td>0</td>\n",
              "    </tr>\n",
              "    <tr>\n",
              "      <th>Postal Code</th>\n",
              "      <td>0</td>\n",
              "    </tr>\n",
              "  </tbody>\n",
              "</table>\n",
              "</div><br><label><b>dtype:</b> int64</label>"
            ]
          },
          "metadata": {},
          "execution_count": 11
        }
      ]
    },
    {
      "cell_type": "code",
      "source": [
        "data['Location'].value_counts()"
      ],
      "metadata": {
        "id": "z0om_eWcsXQB",
        "colab": {
          "base_uri": "https://localhost:8080/",
          "height": 490
        },
        "outputId": "cdc8731e-d90c-450f-835f-c0a4fb9c6f7b"
      },
      "id": "z0om_eWcsXQB",
      "execution_count": null,
      "outputs": [
        {
          "output_type": "execute_result",
          "data": {
            "text/plain": [
              "Location\n",
              "Putney               96\n",
              "Barnes               71\n",
              "Wandsworth           70\n",
              "Wimbledon            68\n",
              "Esher                64\n",
              "                     ..\n",
              "Aberdeen Park         1\n",
              "Southgate Road        1\n",
              " Dalston              1\n",
              "162 Gideon Road       1\n",
              " Waterfront Drive     1\n",
              "Name: count, Length: 656, dtype: int64"
            ],
            "text/html": [
              "<div>\n",
              "<style scoped>\n",
              "    .dataframe tbody tr th:only-of-type {\n",
              "        vertical-align: middle;\n",
              "    }\n",
              "\n",
              "    .dataframe tbody tr th {\n",
              "        vertical-align: top;\n",
              "    }\n",
              "\n",
              "    .dataframe thead th {\n",
              "        text-align: right;\n",
              "    }\n",
              "</style>\n",
              "<table border=\"1\" class=\"dataframe\">\n",
              "  <thead>\n",
              "    <tr style=\"text-align: right;\">\n",
              "      <th></th>\n",
              "      <th>count</th>\n",
              "    </tr>\n",
              "    <tr>\n",
              "      <th>Location</th>\n",
              "      <th></th>\n",
              "    </tr>\n",
              "  </thead>\n",
              "  <tbody>\n",
              "    <tr>\n",
              "      <th>Putney</th>\n",
              "      <td>96</td>\n",
              "    </tr>\n",
              "    <tr>\n",
              "      <th>Barnes</th>\n",
              "      <td>71</td>\n",
              "    </tr>\n",
              "    <tr>\n",
              "      <th>Wandsworth</th>\n",
              "      <td>70</td>\n",
              "    </tr>\n",
              "    <tr>\n",
              "      <th>Wimbledon</th>\n",
              "      <td>68</td>\n",
              "    </tr>\n",
              "    <tr>\n",
              "      <th>Esher</th>\n",
              "      <td>64</td>\n",
              "    </tr>\n",
              "    <tr>\n",
              "      <th>...</th>\n",
              "      <td>...</td>\n",
              "    </tr>\n",
              "    <tr>\n",
              "      <th>Aberdeen Park</th>\n",
              "      <td>1</td>\n",
              "    </tr>\n",
              "    <tr>\n",
              "      <th>Southgate Road</th>\n",
              "      <td>1</td>\n",
              "    </tr>\n",
              "    <tr>\n",
              "      <th>Dalston</th>\n",
              "      <td>1</td>\n",
              "    </tr>\n",
              "    <tr>\n",
              "      <th>162 Gideon Road</th>\n",
              "      <td>1</td>\n",
              "    </tr>\n",
              "    <tr>\n",
              "      <th>Waterfront Drive</th>\n",
              "      <td>1</td>\n",
              "    </tr>\n",
              "  </tbody>\n",
              "</table>\n",
              "<p>656 rows × 1 columns</p>\n",
              "</div><br><label><b>dtype:</b> int64</label>"
            ]
          },
          "metadata": {},
          "execution_count": 12
        }
      ]
    },
    {
      "cell_type": "code",
      "source": [
        "# drop postal codes, unnamed, location, property name\n",
        "\n",
        "london_data_dropped = data.drop(columns=['Location', 'Property Name', 'Postal Code', 'Unnamed: 0','City/County'])\n",
        "\n",
        "london_data_dropped.head()\n",
        "\n"
      ],
      "metadata": {
        "id": "MN4_EdkYgn2g",
        "colab": {
          "base_uri": "https://localhost:8080/",
          "height": 206
        },
        "outputId": "9c113ca2-29fd-4f74-c05d-eac08ec49958"
      },
      "id": "MN4_EdkYgn2g",
      "execution_count": null,
      "outputs": [
        {
          "output_type": "execute_result",
          "data": {
            "text/plain": [
              "     Price        House Type  Area in sq ft  No. of Bedrooms  \\\n",
              "0  1675000             House           2716                5   \n",
              "1   650000  Flat / Apartment            814                2   \n",
              "2   735000  Flat / Apartment            761                2   \n",
              "3  1765000             House           1986                4   \n",
              "4   675000  Flat / Apartment            700                2   \n",
              "\n",
              "   No. of Bathrooms  No. of Receptions  \n",
              "0                 5                  5  \n",
              "1                 2                  2  \n",
              "2                 2                  2  \n",
              "3                 4                  4  \n",
              "4                 2                  2  "
            ],
            "text/html": [
              "\n",
              "  <div id=\"df-2bdf705d-dc7a-4acf-9849-03c29bf6d2c7\" class=\"colab-df-container\">\n",
              "    <div>\n",
              "<style scoped>\n",
              "    .dataframe tbody tr th:only-of-type {\n",
              "        vertical-align: middle;\n",
              "    }\n",
              "\n",
              "    .dataframe tbody tr th {\n",
              "        vertical-align: top;\n",
              "    }\n",
              "\n",
              "    .dataframe thead th {\n",
              "        text-align: right;\n",
              "    }\n",
              "</style>\n",
              "<table border=\"1\" class=\"dataframe\">\n",
              "  <thead>\n",
              "    <tr style=\"text-align: right;\">\n",
              "      <th></th>\n",
              "      <th>Price</th>\n",
              "      <th>House Type</th>\n",
              "      <th>Area in sq ft</th>\n",
              "      <th>No. of Bedrooms</th>\n",
              "      <th>No. of Bathrooms</th>\n",
              "      <th>No. of Receptions</th>\n",
              "    </tr>\n",
              "  </thead>\n",
              "  <tbody>\n",
              "    <tr>\n",
              "      <th>0</th>\n",
              "      <td>1675000</td>\n",
              "      <td>House</td>\n",
              "      <td>2716</td>\n",
              "      <td>5</td>\n",
              "      <td>5</td>\n",
              "      <td>5</td>\n",
              "    </tr>\n",
              "    <tr>\n",
              "      <th>1</th>\n",
              "      <td>650000</td>\n",
              "      <td>Flat / Apartment</td>\n",
              "      <td>814</td>\n",
              "      <td>2</td>\n",
              "      <td>2</td>\n",
              "      <td>2</td>\n",
              "    </tr>\n",
              "    <tr>\n",
              "      <th>2</th>\n",
              "      <td>735000</td>\n",
              "      <td>Flat / Apartment</td>\n",
              "      <td>761</td>\n",
              "      <td>2</td>\n",
              "      <td>2</td>\n",
              "      <td>2</td>\n",
              "    </tr>\n",
              "    <tr>\n",
              "      <th>3</th>\n",
              "      <td>1765000</td>\n",
              "      <td>House</td>\n",
              "      <td>1986</td>\n",
              "      <td>4</td>\n",
              "      <td>4</td>\n",
              "      <td>4</td>\n",
              "    </tr>\n",
              "    <tr>\n",
              "      <th>4</th>\n",
              "      <td>675000</td>\n",
              "      <td>Flat / Apartment</td>\n",
              "      <td>700</td>\n",
              "      <td>2</td>\n",
              "      <td>2</td>\n",
              "      <td>2</td>\n",
              "    </tr>\n",
              "  </tbody>\n",
              "</table>\n",
              "</div>\n",
              "    <div class=\"colab-df-buttons\">\n",
              "\n",
              "  <div class=\"colab-df-container\">\n",
              "    <button class=\"colab-df-convert\" onclick=\"convertToInteractive('df-2bdf705d-dc7a-4acf-9849-03c29bf6d2c7')\"\n",
              "            title=\"Convert this dataframe to an interactive table.\"\n",
              "            style=\"display:none;\">\n",
              "\n",
              "  <svg xmlns=\"http://www.w3.org/2000/svg\" height=\"24px\" viewBox=\"0 -960 960 960\">\n",
              "    <path d=\"M120-120v-720h720v720H120Zm60-500h600v-160H180v160Zm220 220h160v-160H400v160Zm0 220h160v-160H400v160ZM180-400h160v-160H180v160Zm440 0h160v-160H620v160ZM180-180h160v-160H180v160Zm440 0h160v-160H620v160Z\"/>\n",
              "  </svg>\n",
              "    </button>\n",
              "\n",
              "  <style>\n",
              "    .colab-df-container {\n",
              "      display:flex;\n",
              "      gap: 12px;\n",
              "    }\n",
              "\n",
              "    .colab-df-convert {\n",
              "      background-color: #E8F0FE;\n",
              "      border: none;\n",
              "      border-radius: 50%;\n",
              "      cursor: pointer;\n",
              "      display: none;\n",
              "      fill: #1967D2;\n",
              "      height: 32px;\n",
              "      padding: 0 0 0 0;\n",
              "      width: 32px;\n",
              "    }\n",
              "\n",
              "    .colab-df-convert:hover {\n",
              "      background-color: #E2EBFA;\n",
              "      box-shadow: 0px 1px 2px rgba(60, 64, 67, 0.3), 0px 1px 3px 1px rgba(60, 64, 67, 0.15);\n",
              "      fill: #174EA6;\n",
              "    }\n",
              "\n",
              "    .colab-df-buttons div {\n",
              "      margin-bottom: 4px;\n",
              "    }\n",
              "\n",
              "    [theme=dark] .colab-df-convert {\n",
              "      background-color: #3B4455;\n",
              "      fill: #D2E3FC;\n",
              "    }\n",
              "\n",
              "    [theme=dark] .colab-df-convert:hover {\n",
              "      background-color: #434B5C;\n",
              "      box-shadow: 0px 1px 3px 1px rgba(0, 0, 0, 0.15);\n",
              "      filter: drop-shadow(0px 1px 2px rgba(0, 0, 0, 0.3));\n",
              "      fill: #FFFFFF;\n",
              "    }\n",
              "  </style>\n",
              "\n",
              "    <script>\n",
              "      const buttonEl =\n",
              "        document.querySelector('#df-2bdf705d-dc7a-4acf-9849-03c29bf6d2c7 button.colab-df-convert');\n",
              "      buttonEl.style.display =\n",
              "        google.colab.kernel.accessAllowed ? 'block' : 'none';\n",
              "\n",
              "      async function convertToInteractive(key) {\n",
              "        const element = document.querySelector('#df-2bdf705d-dc7a-4acf-9849-03c29bf6d2c7');\n",
              "        const dataTable =\n",
              "          await google.colab.kernel.invokeFunction('convertToInteractive',\n",
              "                                                    [key], {});\n",
              "        if (!dataTable) return;\n",
              "\n",
              "        const docLinkHtml = 'Like what you see? Visit the ' +\n",
              "          '<a target=\"_blank\" href=https://colab.research.google.com/notebooks/data_table.ipynb>data table notebook</a>'\n",
              "          + ' to learn more about interactive tables.';\n",
              "        element.innerHTML = '';\n",
              "        dataTable['output_type'] = 'display_data';\n",
              "        await google.colab.output.renderOutput(dataTable, element);\n",
              "        const docLink = document.createElement('div');\n",
              "        docLink.innerHTML = docLinkHtml;\n",
              "        element.appendChild(docLink);\n",
              "      }\n",
              "    </script>\n",
              "  </div>\n",
              "\n",
              "\n",
              "<div id=\"df-0185d003-c14b-4bc1-86c9-14f386509eaa\">\n",
              "  <button class=\"colab-df-quickchart\" onclick=\"quickchart('df-0185d003-c14b-4bc1-86c9-14f386509eaa')\"\n",
              "            title=\"Suggest charts\"\n",
              "            style=\"display:none;\">\n",
              "\n",
              "<svg xmlns=\"http://www.w3.org/2000/svg\" height=\"24px\"viewBox=\"0 0 24 24\"\n",
              "     width=\"24px\">\n",
              "    <g>\n",
              "        <path d=\"M19 3H5c-1.1 0-2 .9-2 2v14c0 1.1.9 2 2 2h14c1.1 0 2-.9 2-2V5c0-1.1-.9-2-2-2zM9 17H7v-7h2v7zm4 0h-2V7h2v10zm4 0h-2v-4h2v4z\"/>\n",
              "    </g>\n",
              "</svg>\n",
              "  </button>\n",
              "\n",
              "<style>\n",
              "  .colab-df-quickchart {\n",
              "      --bg-color: #E8F0FE;\n",
              "      --fill-color: #1967D2;\n",
              "      --hover-bg-color: #E2EBFA;\n",
              "      --hover-fill-color: #174EA6;\n",
              "      --disabled-fill-color: #AAA;\n",
              "      --disabled-bg-color: #DDD;\n",
              "  }\n",
              "\n",
              "  [theme=dark] .colab-df-quickchart {\n",
              "      --bg-color: #3B4455;\n",
              "      --fill-color: #D2E3FC;\n",
              "      --hover-bg-color: #434B5C;\n",
              "      --hover-fill-color: #FFFFFF;\n",
              "      --disabled-bg-color: #3B4455;\n",
              "      --disabled-fill-color: #666;\n",
              "  }\n",
              "\n",
              "  .colab-df-quickchart {\n",
              "    background-color: var(--bg-color);\n",
              "    border: none;\n",
              "    border-radius: 50%;\n",
              "    cursor: pointer;\n",
              "    display: none;\n",
              "    fill: var(--fill-color);\n",
              "    height: 32px;\n",
              "    padding: 0;\n",
              "    width: 32px;\n",
              "  }\n",
              "\n",
              "  .colab-df-quickchart:hover {\n",
              "    background-color: var(--hover-bg-color);\n",
              "    box-shadow: 0 1px 2px rgba(60, 64, 67, 0.3), 0 1px 3px 1px rgba(60, 64, 67, 0.15);\n",
              "    fill: var(--button-hover-fill-color);\n",
              "  }\n",
              "\n",
              "  .colab-df-quickchart-complete:disabled,\n",
              "  .colab-df-quickchart-complete:disabled:hover {\n",
              "    background-color: var(--disabled-bg-color);\n",
              "    fill: var(--disabled-fill-color);\n",
              "    box-shadow: none;\n",
              "  }\n",
              "\n",
              "  .colab-df-spinner {\n",
              "    border: 2px solid var(--fill-color);\n",
              "    border-color: transparent;\n",
              "    border-bottom-color: var(--fill-color);\n",
              "    animation:\n",
              "      spin 1s steps(1) infinite;\n",
              "  }\n",
              "\n",
              "  @keyframes spin {\n",
              "    0% {\n",
              "      border-color: transparent;\n",
              "      border-bottom-color: var(--fill-color);\n",
              "      border-left-color: var(--fill-color);\n",
              "    }\n",
              "    20% {\n",
              "      border-color: transparent;\n",
              "      border-left-color: var(--fill-color);\n",
              "      border-top-color: var(--fill-color);\n",
              "    }\n",
              "    30% {\n",
              "      border-color: transparent;\n",
              "      border-left-color: var(--fill-color);\n",
              "      border-top-color: var(--fill-color);\n",
              "      border-right-color: var(--fill-color);\n",
              "    }\n",
              "    40% {\n",
              "      border-color: transparent;\n",
              "      border-right-color: var(--fill-color);\n",
              "      border-top-color: var(--fill-color);\n",
              "    }\n",
              "    60% {\n",
              "      border-color: transparent;\n",
              "      border-right-color: var(--fill-color);\n",
              "    }\n",
              "    80% {\n",
              "      border-color: transparent;\n",
              "      border-right-color: var(--fill-color);\n",
              "      border-bottom-color: var(--fill-color);\n",
              "    }\n",
              "    90% {\n",
              "      border-color: transparent;\n",
              "      border-bottom-color: var(--fill-color);\n",
              "    }\n",
              "  }\n",
              "</style>\n",
              "\n",
              "  <script>\n",
              "    async function quickchart(key) {\n",
              "      const quickchartButtonEl =\n",
              "        document.querySelector('#' + key + ' button');\n",
              "      quickchartButtonEl.disabled = true;  // To prevent multiple clicks.\n",
              "      quickchartButtonEl.classList.add('colab-df-spinner');\n",
              "      try {\n",
              "        const charts = await google.colab.kernel.invokeFunction(\n",
              "            'suggestCharts', [key], {});\n",
              "      } catch (error) {\n",
              "        console.error('Error during call to suggestCharts:', error);\n",
              "      }\n",
              "      quickchartButtonEl.classList.remove('colab-df-spinner');\n",
              "      quickchartButtonEl.classList.add('colab-df-quickchart-complete');\n",
              "    }\n",
              "    (() => {\n",
              "      let quickchartButtonEl =\n",
              "        document.querySelector('#df-0185d003-c14b-4bc1-86c9-14f386509eaa button');\n",
              "      quickchartButtonEl.style.display =\n",
              "        google.colab.kernel.accessAllowed ? 'block' : 'none';\n",
              "    })();\n",
              "  </script>\n",
              "</div>\n",
              "\n",
              "    </div>\n",
              "  </div>\n"
            ],
            "application/vnd.google.colaboratory.intrinsic+json": {
              "type": "dataframe",
              "variable_name": "london_data_dropped",
              "summary": "{\n  \"name\": \"london_data_dropped\",\n  \"rows\": 3480,\n  \"fields\": [\n    {\n      \"column\": \"Price\",\n      \"properties\": {\n        \"dtype\": \"number\",\n        \"std\": 2267282,\n        \"min\": 180000,\n        \"max\": 39750000,\n        \"num_unique_values\": 536,\n        \"samples\": [\n          752500,\n          2700000,\n          1375000\n        ],\n        \"semantic_type\": \"\",\n        \"description\": \"\"\n      }\n    },\n    {\n      \"column\": \"House Type\",\n      \"properties\": {\n        \"dtype\": \"category\",\n        \"num_unique_values\": 8,\n        \"samples\": [\n          \"Flat / Apartment\",\n          \"Studio\",\n          \"House\"\n        ],\n        \"semantic_type\": \"\",\n        \"description\": \"\"\n      }\n    },\n    {\n      \"column\": \"Area in sq ft\",\n      \"properties\": {\n        \"dtype\": \"number\",\n        \"std\": 1364,\n        \"min\": 274,\n        \"max\": 15405,\n        \"num_unique_values\": 2034,\n        \"samples\": [\n          2131,\n          654,\n          1063\n        ],\n        \"semantic_type\": \"\",\n        \"description\": \"\"\n      }\n    },\n    {\n      \"column\": \"No. of Bedrooms\",\n      \"properties\": {\n        \"dtype\": \"number\",\n        \"std\": 1,\n        \"min\": 0,\n        \"max\": 10,\n        \"num_unique_values\": 11,\n        \"samples\": [\n          6,\n          5,\n          8\n        ],\n        \"semantic_type\": \"\",\n        \"description\": \"\"\n      }\n    },\n    {\n      \"column\": \"No. of Bathrooms\",\n      \"properties\": {\n        \"dtype\": \"number\",\n        \"std\": 1,\n        \"min\": 0,\n        \"max\": 10,\n        \"num_unique_values\": 11,\n        \"samples\": [\n          6,\n          5,\n          8\n        ],\n        \"semantic_type\": \"\",\n        \"description\": \"\"\n      }\n    },\n    {\n      \"column\": \"No. of Receptions\",\n      \"properties\": {\n        \"dtype\": \"number\",\n        \"std\": 1,\n        \"min\": 0,\n        \"max\": 10,\n        \"num_unique_values\": 11,\n        \"samples\": [\n          6,\n          5,\n          8\n        ],\n        \"semantic_type\": \"\",\n        \"description\": \"\"\n      }\n    }\n  ]\n}"
            }
          },
          "metadata": {},
          "execution_count": 13
        }
      ]
    },
    {
      "cell_type": "markdown",
      "source": [
        "# EDA"
      ],
      "metadata": {
        "id": "cknlvnvpIhQE"
      },
      "id": "cknlvnvpIhQE"
    },
    {
      "cell_type": "code",
      "source": [
        "# Compute correlation matrix using numeric data.\n",
        "numeric_data = london_data_dropped.select_dtypes(include=['number'])\n",
        "correlation_matrix = numeric_data.corr()\n",
        "\n",
        "# Plotting heatmap\n",
        "sns.heatmap(correlation_matrix, annot=True, fmt=\".2f\", cmap=\"coolwarm\", center=0, cbar_kws={'label': 'Correlation'})\n",
        "plt.title('Features Correlation Heatmap ')\n",
        "plt.show()"
      ],
      "metadata": {
        "id": "Xb6xtEELIjFo",
        "colab": {
          "base_uri": "https://localhost:8080/",
          "height": 560
        },
        "outputId": "c83e3f52-5d60-4ec6-c4c1-86bea3fe3402"
      },
      "id": "Xb6xtEELIjFo",
      "execution_count": null,
      "outputs": [
        {
          "output_type": "display_data",
          "data": {
            "text/plain": [
              "<Figure size 640x480 with 2 Axes>"
            ],
            "image/png": "[encoded data removed]"
          },
          "metadata": {}
        }
      ]
    },
    {
      "cell_type": "markdown",
      "source": [
        "# The relation between number of bedrooms and the price\n"
      ],
      "metadata": {
        "id": "p_9sufR-KPh4"
      },
      "id": "p_9sufR-KPh4"
    },
    {
      "cell_type": "code",
      "source": [
        "# Group average price by number of bedrooms\n",
        "avg_price_by_bedrooms = data.groupby('No. of Bedrooms')['Price'].mean()"
      ],
      "metadata": {
        "id": "22UiKn_ZKX1n"
      },
      "id": "22UiKn_ZKX1n",
      "execution_count": null,
      "outputs": []
    },
    {
      "cell_type": "code",
      "source": [
        "# Visualize the trend of number of bedrooms and their average price\n",
        "plt.figure(figsize=(10, 6))\n",
        "avg_price_by_bedrooms.plot(kind='line')\n",
        "plt.title('Average Price by Number of Bedrooms')\n",
        "plt.xlabel('Number of Bedrooms')\n",
        "plt.ylabel('Average Price (£)')\n",
        "plt.grid(True)\n",
        "plt.show()"
      ],
      "metadata": {
        "colab": {
          "base_uri": "https://localhost:8080/",
          "height": 564
        },
        "id": "V5hN5keDKaG6",
        "outputId": "0e39f493-1dc7-4fbf-92ba-7a11171b3aa6"
      },
      "id": "V5hN5keDKaG6",
      "execution_count": null,
      "outputs": [
        {
          "output_type": "display_data",
          "data": {
            "text/plain": [
              "<Figure size 1000x600 with 1 Axes>"
            ],
            "image/png": "[encoded data removed]"
          },
          "metadata": {}
        }
      ]
    },
    {
      "cell_type": "code",
      "source": [
        "#Multiple bedrooms indicate luxury\n",
        "'''\n",
        "g = sns.displot(\n",
        "    data=london_data_dropped,\n",
        "    x='No. of Bedrooms',\n",
        "    col='Affordability',\n",
        "    row='City/County',\n",
        "    kind='hist',\n",
        "    fill=True\n",
        ")\n",
        "\n",
        "for ax in g.axes.flat:\n",
        "    ax.set_yscale('log')\n",
        "\n",
        "plt.show()\n",
        "'''"
      ],
      "metadata": {
        "id": "Zzdfqo0pC-oP",
        "colab": {
          "base_uri": "https://localhost:8080/",
          "height": 53
        },
        "outputId": "68e8458b-e9c8-4a1c-8ee0-37d1a56da25c"
      },
      "id": "Zzdfqo0pC-oP",
      "execution_count": null,
      "outputs": [
        {
          "output_type": "execute_result",
          "data": {
            "text/plain": [
              "\"\\ng = sns.displot(\\n    data=london_data_dropped,\\n    x='No. of Bedrooms',\\n    col='Affordability',\\n    row='City/County',\\n    kind='hist',\\n    fill=True\\n)\\n\\nfor ax in g.axes.flat:\\n    ax.set_yscale('log')\\n\\nplt.show()\\n\""
            ],
            "application/vnd.google.colaboratory.intrinsic+json": {
              "type": "string"
            }
          },
          "metadata": {},
          "execution_count": 17
        }
      ]
    },
    {
      "cell_type": "code",
      "source": [
        "#How do prices vary by house type?\n",
        "\n",
        "#remove outliers\n",
        "q1 = london_data_dropped['Price'].quantile(0.25)\n",
        "q3 = london_data_dropped['Price'].quantile(0.75)\n",
        "iqr = q3 - q1\n",
        "lower_bound = q1 - 1.5 * iqr\n",
        "upper_bound = q3 + 1.5 * iqr\n",
        "\n",
        "filtered_data = london_data_dropped[(london_data_dropped['Price'] >= lower_bound) &\n",
        "                                    (london_data_dropped['Price'] <= upper_bound)]\n",
        "\n",
        "# Visualize price distribution by House Type\n",
        "plt.figure(figsize=(10, 6))\n",
        "a = sns.boxplot(x='House Type', y='Price', data=filtered_data)\n",
        "plt.title('Price Distribution by House Type (Without Outliers)')\n",
        "plt.xlabel('House Type')\n",
        "plt.ylabel('Price')\n",
        "plt.xticks(rotation=45)\n",
        "\n",
        "plt.show()\n",
        "\n",
        "# Summary statistics by House Type\n",
        "pd.options.display.float_format = '{:,.0f}'.format\n",
        "print(data.groupby('House Type')['Price'].describe())"
      ],
      "metadata": {
        "id": "-0paeMlq4iFu",
        "colab": {
          "base_uri": "https://localhost:8080/",
          "height": 1000
        },
        "outputId": "35d10b9b-a00e-4b88-d314-dad146485155"
      },
      "id": "-0paeMlq4iFu",
      "execution_count": null,
      "outputs": [
        {
          "output_type": "display_data",
          "data": {
            "text/plain": [
              "<Figure size 1000x600 with 1 Axes>"
            ],
            "image/png": "[encoded data removed]"
          },
          "metadata": {}
        },
        {
          "output_type": "stream",
          "name": "stdout",
          "text": [
            "                  count      mean       std       min       25%       50%  \\\n",
            "House Type                                                                  \n",
            "Bungalow              9   904,444   308,357   525,000   700,000   915,000   \n",
            "Duplex                7   934,286   301,903   650,000   737,500   765,000   \n",
            "Flat / Apartment  1,565 1,251,813 1,525,116   180,000   599,950   800,000   \n",
            "House             1,430 2,388,378 2,297,805   375,000 1,225,000 1,750,000   \n",
            "Mews                  2 1,400,000    70,711 1,350,000 1,375,000 1,400,000   \n",
            "New development     357 2,186,312 3,519,847   350,000   650,000 1,050,000   \n",
            "Penthouse           100 3,112,847 3,301,366   395,000   998,712 1,850,000   \n",
            "Studio               10   357,500    88,702   210,000   295,000   367,500   \n",
            "\n",
            "                       75%        max  \n",
            "House Type                             \n",
            "Bungalow           975,000  1,400,000  \n",
            "Duplex           1,075,000  1,500,000  \n",
            "Flat / Apartment 1,300,000 19,950,000  \n",
            "House            2,737,500 34,000,000  \n",
            "Mews             1,425,000  1,450,000  \n",
            "New development  2,170,000 39,750,000  \n",
            "Penthouse        3,962,500 21,000,000  \n",
            "Studio             445,000    450,000  \n"
          ]
        }
      ]
    },
    {
      "cell_type": "code",
      "source": [
        "'''\n",
        "import seaborn as sns\n",
        "import matplotlib.pyplot as plt\n",
        "\n",
        "flat_apartment_data = london_data_dropped[london_data_dropped['House Type'] == 1]  # Filter for 'Flat / Apartment'\n",
        "sns.histplot(flat_apartment_data['Price'], kde=True)\n",
        "plt.title('Distribution of Prices for Flat/Apartment')\n",
        "plt.show()\n",
        "'''"
      ],
      "metadata": {
        "colab": {
          "base_uri": "https://localhost:8080/",
          "height": 53
        },
        "id": "rDPoUptSoSx-",
        "outputId": "9e41853f-7755-4ae8-87e4-598a93deb51f"
      },
      "id": "rDPoUptSoSx-",
      "execution_count": null,
      "outputs": [
        {
          "output_type": "execute_result",
          "data": {
            "text/plain": [
              "\"\\nimport seaborn as sns\\nimport matplotlib.pyplot as plt\\n\\nflat_apartment_data = london_data_dropped[london_data_dropped['House Type'] == 1]  # Filter for 'Flat / Apartment'\\nsns.histplot(flat_apartment_data['Price'], kde=True)\\nplt.title('Distribution of Prices for Flat/Apartment')\\nplt.show()\\n\""
            ],
            "application/vnd.google.colaboratory.intrinsic+json": {
              "type": "string"
            }
          },
          "metadata": {},
          "execution_count": 19
        }
      ]
    },
    {
      "cell_type": "code",
      "source": [
        "# Scatter plot of Area in sq ft vs Price\n",
        "plt.figure(figsize=(10,6))\n",
        "sns.scatterplot(x='Area in sq ft', y='Price', data=data)\n",
        "plt.title('Area in Square Feet vs Price')\n",
        "plt.xlabel('Area in Square Feet')\n",
        "plt.ylabel('Price')\n",
        "plt.show()\n",
        "\n",
        "# Check for any outliers in the relationship\n",
        "pd.options.display.float_format = '{:,.0f}'.format\n",
        "\n",
        "print(data[['Area in sq ft', 'Price']].describe())"
      ],
      "metadata": {
        "id": "vdUmKJf-G98F",
        "colab": {
          "base_uri": "https://localhost:8080/",
          "height": 720
        },
        "outputId": "e3b075cd-f941-4e82-fc81-8645abe1c551"
      },
      "id": "vdUmKJf-G98F",
      "execution_count": null,
      "outputs": [
        {
          "output_type": "display_data",
          "data": {
            "text/plain": [
              "<Figure size 1000x600 with 1 Axes>"
            ],
            "image/png": "[encoded data removed]"
          },
          "metadata": {}
        },
        {
          "output_type": "stream",
          "name": "stdout",
          "text": [
            "       Area in sq ft      Price\n",
            "count          3,480      3,480\n",
            "mean           1,713  1,864,173\n",
            "std            1,364  2,267,283\n",
            "min              274    180,000\n",
            "25%              834    750,000\n",
            "50%            1,310  1,220,000\n",
            "75%            2,157  2,150,000\n",
            "max           15,405 39,750,000\n"
          ]
        }
      ]
    },
    {
      "cell_type": "code",
      "source": [
        "# Create a new column for Price per square foot\n",
        "london_data_dropped['Price_per_sqft']=round(data['Price']/data['Area in sq ft'],2)\n",
        "\n",
        "# Visualize the price per square foot distribution\n",
        "plt.figure(figsize=(10,6))\n",
        "sns.histplot(london_data_dropped['Price_per_sqft'], bins=50, kde=True)\n",
        "plt.title('Distribution of Price per Square Foot')\n",
        "plt.xlabel('Price_per_sqft')\n",
        "plt.ylabel('Frequency')\n",
        "plt.show()\n",
        "\n",
        "print(london_data_dropped['Price_per_sqft'].describe())"
      ],
      "metadata": {
        "id": "iCj88f9Ii8w8",
        "colab": {
          "base_uri": "https://localhost:8080/",
          "height": 720
        },
        "outputId": "94f1ae20-c0dc-4bc5-ec07-029482b1e850"
      },
      "id": "iCj88f9Ii8w8",
      "execution_count": null,
      "outputs": [
        {
          "output_type": "display_data",
          "data": {
            "text/plain": [
              "<Figure size 1000x600 with 1 Axes>"
            ],
            "image/png": "[encoded data removed]"
          },
          "metadata": {}
        },
        {
          "output_type": "stream",
          "name": "stdout",
          "text": [
            "count   3,480\n",
            "mean    1,066\n",
            "std       578\n",
            "min       242\n",
            "25%       728\n",
            "50%       905\n",
            "75%     1,206\n",
            "max     7,069\n",
            "Name: Price_per_sqft, dtype: float64\n"
          ]
        }
      ]
    },
    {
      "cell_type": "code",
      "source": [
        "# Calculate quantiles and IQR\n",
        "Q1 = london_data_dropped['Price_per_sqft'].quantile(0.25)\n",
        "Q3 = london_data_dropped['Price_per_sqft'].quantile(0.75)\n",
        "IQR = Q3 - Q1\n",
        "\n",
        "# Define upper and lower bounds\n",
        "lower_bound = Q1 - 1.5 * IQR\n",
        "upper_bound = Q3 + 1.5 * IQR\n",
        "\n",
        "# Filter data\n",
        "filtered_data = london_data_dropped[(london_data_dropped['Price_per_sqft'] >= lower_bound)\\\n",
        "                                    & (london_data_dropped['Price_per_sqft'] <= upper_bound)]\n",
        "\n",
        "# Visualize the price per square foot distribution for the filtered data\n",
        "plt.figure(figsize=(10, 6))\n",
        "sns.histplot(filtered_data['Price_per_sqft'], bins=50, kde=True)\n",
        "plt.title('Distribution of Price per Square Foot (After Outlier Removal)')\n",
        "plt.xlabel('Price_per_sqft')\n",
        "plt.ylabel('Frequency')\n",
        "plt.show()"
      ],
      "metadata": {
        "colab": {
          "base_uri": "https://localhost:8080/",
          "height": 564
        },
        "id": "oMg1JCOD3GxM",
        "outputId": "b4545457-b23c-42cf-bcd5-5930965f4be6"
      },
      "id": "oMg1JCOD3GxM",
      "execution_count": null,
      "outputs": [
        {
          "output_type": "display_data",
          "data": {
            "text/plain": [
              "<Figure size 1000x600 with 1 Axes>"
            ],
            "image/png": "[encoded data removed]"
          },
          "metadata": {}
        }
      ]
    },
    {
      "cell_type": "code",
      "source": [
        "'''threshold=data['Price_per_sqft'].median()\n",
        "threshold\n",
        "'''\n",
        "threshold=675 #based on data from news"
      ],
      "metadata": {
        "id": "kRUMtIPeleFz"
      },
      "id": "kRUMtIPeleFz",
      "execution_count": null,
      "outputs": []
    },
    {
      "cell_type": "code",
      "source": [
        "london_data_dropped['Affordability'] = np.where(london_data_dropped['Price_per_sqft'] > threshold, 1, 0)  # 1 = Unaffordable, 0 = Affordable\n",
        "london_data_dropped['Affordability'].value_counts()"
      ],
      "metadata": {
        "id": "Grxk5Y8AnNGT",
        "colab": {
          "base_uri": "https://localhost:8080/",
          "height": 178
        },
        "outputId": "bc6dd29c-900d-46d4-d3ad-df2385ecb432"
      },
      "id": "Grxk5Y8AnNGT",
      "execution_count": null,
      "outputs": [
        {
          "output_type": "execute_result",
          "data": {
            "text/plain": [
              "Affordability\n",
              "1    2863\n",
              "0     617\n",
              "Name: count, dtype: int64"
            ],
            "text/html": [
              "<div>\n",
              "<style scoped>\n",
              "    .dataframe tbody tr th:only-of-type {\n",
              "        vertical-align: middle;\n",
              "    }\n",
              "\n",
              "    .dataframe tbody tr th {\n",
              "        vertical-align: top;\n",
              "    }\n",
              "\n",
              "    .dataframe thead th {\n",
              "        text-align: right;\n",
              "    }\n",
              "</style>\n",
              "<table border=\"1\" class=\"dataframe\">\n",
              "  <thead>\n",
              "    <tr style=\"text-align: right;\">\n",
              "      <th></th>\n",
              "      <th>count</th>\n",
              "    </tr>\n",
              "    <tr>\n",
              "      <th>Affordability</th>\n",
              "      <th></th>\n",
              "    </tr>\n",
              "  </thead>\n",
              "  <tbody>\n",
              "    <tr>\n",
              "      <th>1</th>\n",
              "      <td>2863</td>\n",
              "    </tr>\n",
              "    <tr>\n",
              "      <th>0</th>\n",
              "      <td>617</td>\n",
              "    </tr>\n",
              "  </tbody>\n",
              "</table>\n",
              "</div><br><label><b>dtype:</b> int64</label>"
            ]
          },
          "metadata": {},
          "execution_count": 24
        }
      ]
    },
    {
      "cell_type": "code",
      "source": [
        "london_data_dropped['House Type'].value_counts()"
      ],
      "metadata": {
        "id": "Hkn7CFyglFms",
        "colab": {
          "base_uri": "https://localhost:8080/",
          "height": 366
        },
        "outputId": "88efd128-7152-4665-fb58-d3fc0a6b8432"
      },
      "id": "Hkn7CFyglFms",
      "execution_count": null,
      "outputs": [
        {
          "output_type": "execute_result",
          "data": {
            "text/plain": [
              "House Type\n",
              "Flat / Apartment    1565\n",
              "House               1430\n",
              "New development      357\n",
              "Penthouse            100\n",
              "Studio                10\n",
              "Bungalow               9\n",
              "Duplex                 7\n",
              "Mews                   2\n",
              "Name: count, dtype: int64"
            ],
            "text/html": [
              "<div>\n",
              "<style scoped>\n",
              "    .dataframe tbody tr th:only-of-type {\n",
              "        vertical-align: middle;\n",
              "    }\n",
              "\n",
              "    .dataframe tbody tr th {\n",
              "        vertical-align: top;\n",
              "    }\n",
              "\n",
              "    .dataframe thead th {\n",
              "        text-align: right;\n",
              "    }\n",
              "</style>\n",
              "<table border=\"1\" class=\"dataframe\">\n",
              "  <thead>\n",
              "    <tr style=\"text-align: right;\">\n",
              "      <th></th>\n",
              "      <th>count</th>\n",
              "    </tr>\n",
              "    <tr>\n",
              "      <th>House Type</th>\n",
              "      <th></th>\n",
              "    </tr>\n",
              "  </thead>\n",
              "  <tbody>\n",
              "    <tr>\n",
              "      <th>Flat / Apartment</th>\n",
              "      <td>1565</td>\n",
              "    </tr>\n",
              "    <tr>\n",
              "      <th>House</th>\n",
              "      <td>1430</td>\n",
              "    </tr>\n",
              "    <tr>\n",
              "      <th>New development</th>\n",
              "      <td>357</td>\n",
              "    </tr>\n",
              "    <tr>\n",
              "      <th>Penthouse</th>\n",
              "      <td>100</td>\n",
              "    </tr>\n",
              "    <tr>\n",
              "      <th>Studio</th>\n",
              "      <td>10</td>\n",
              "    </tr>\n",
              "    <tr>\n",
              "      <th>Bungalow</th>\n",
              "      <td>9</td>\n",
              "    </tr>\n",
              "    <tr>\n",
              "      <th>Duplex</th>\n",
              "      <td>7</td>\n",
              "    </tr>\n",
              "    <tr>\n",
              "      <th>Mews</th>\n",
              "      <td>2</td>\n",
              "    </tr>\n",
              "  </tbody>\n",
              "</table>\n",
              "</div><br><label><b>dtype:</b> int64</label>"
            ]
          },
          "metadata": {},
          "execution_count": 25
        }
      ]
    },
    {
      "cell_type": "code",
      "source": [
        "'''london_data_dropped['House Type']=london_data_dropped['House Type'].replace(['Studio','Bungalow','Duplex','Mews'],'rare')'''"
      ],
      "metadata": {
        "id": "l1q3Xe1YlRb-",
        "colab": {
          "base_uri": "https://localhost:8080/",
          "height": 35
        },
        "outputId": "7857b9dd-c147-4d34-95cd-a7165ba4b294"
      },
      "id": "l1q3Xe1YlRb-",
      "execution_count": null,
      "outputs": [
        {
          "output_type": "execute_result",
          "data": {
            "text/plain": [
              "\"london_data_dropped['House Type']=london_data_dropped['House Type'].replace(['Studio','Bungalow','Duplex','Mews'],'rare')\""
            ],
            "application/vnd.google.colaboratory.intrinsic+json": {
              "type": "string"
            }
          },
          "metadata": {},
          "execution_count": 26
        }
      ]
    },
    {
      "cell_type": "code",
      "source": [
        "london_data_dropped['House Type'].unique()"
      ],
      "metadata": {
        "id": "iHeSdV1fnne-",
        "colab": {
          "base_uri": "https://localhost:8080/"
        },
        "outputId": "8f625326-819d-4afb-d80d-1e256df0d690"
      },
      "id": "iHeSdV1fnne-",
      "execution_count": null,
      "outputs": [
        {
          "output_type": "execute_result",
          "data": {
            "text/plain": [
              "array(['House', 'Flat / Apartment', 'New development', 'Duplex',\n",
              "       'Penthouse', 'Studio', 'Bungalow', 'Mews'], dtype=object)"
            ]
          },
          "metadata": {},
          "execution_count": 27
        }
      ]
    },
    {
      "cell_type": "code",
      "source": [
        "'''london_data_dropped.groupby('House Type')['Affordability'].mean()'''"
      ],
      "metadata": {
        "id": "JOqihx0UkOU9",
        "colab": {
          "base_uri": "https://localhost:8080/",
          "height": 35
        },
        "outputId": "b1d28a9b-97f7-4f5e-fe3f-fdfab3eeee8f"
      },
      "id": "JOqihx0UkOU9",
      "execution_count": null,
      "outputs": [
        {
          "output_type": "execute_result",
          "data": {
            "text/plain": [
              "\"london_data_dropped.groupby('House Type')['Affordability'].mean()\""
            ],
            "application/vnd.google.colaboratory.intrinsic+json": {
              "type": "string"
            }
          },
          "metadata": {},
          "execution_count": 28
        }
      ]
    },
    {
      "cell_type": "code",
      "source": [
        "house_type_mapping={\"House\":1,\"Flat / Apartment\":2,\"New development\":3,\"Penthouse\":4,\"Studio\":5,\"Bungalow\":6,\"Duplex\":7,\"Mews\":8}\n",
        "'''house_type_mapping={\"House\":1,\"Flat / Apartment\":2,\"New development\":3,\"Penthouse\":4,\"rare\":5}'''\n",
        "london_data_dropped['House Type']=london_data_dropped['House Type'].map(house_type_mapping)\n",
        "london_data_dropped['House Type'].unique()"
      ],
      "metadata": {
        "id": "F_dVJMpWkvW7",
        "colab": {
          "base_uri": "https://localhost:8080/"
        },
        "outputId": "7f83032a-549a-42c9-fed5-a5997c47485c"
      },
      "id": "F_dVJMpWkvW7",
      "execution_count": null,
      "outputs": [
        {
          "output_type": "execute_result",
          "data": {
            "text/plain": [
              "array([1, 2, 3, 7, 4, 5, 6, 8])"
            ]
          },
          "metadata": {},
          "execution_count": 29
        }
      ]
    },
    {
      "cell_type": "code",
      "source": [
        "'''\n",
        "# Calculate frequency of each city\n",
        "freq = london_data_dropped['City/County'].value_counts()\n",
        "\n",
        "# Map based on frequency\n",
        "london_data_dropped['City/County'] = london_data_dropped['City/County'].map(lambda x: x if freq[x] > 12 else 'rare')\n",
        "\n",
        "london_data_dropped['City/County'].unique()\n",
        "'''\n"
      ],
      "metadata": {
        "id": "AFYrKSs82XmL",
        "colab": {
          "base_uri": "https://localhost:8080/",
          "height": 53
        },
        "outputId": "774467b4-c84b-4d47-c5bd-714bc12c0ff5"
      },
      "id": "AFYrKSs82XmL",
      "execution_count": null,
      "outputs": [
        {
          "output_type": "execute_result",
          "data": {
            "text/plain": [
              "\"\\n# Calculate frequency of each city\\nfreq = london_data_dropped['City/County'].value_counts()\\n\\n# Map based on frequency\\nlondon_data_dropped['City/County'] = london_data_dropped['City/County'].map(lambda x: x if freq[x] > 12 else 'rare')\\n\\nlondon_data_dropped['City/County'].unique()\\n\""
            ],
            "application/vnd.google.colaboratory.intrinsic+json": {
              "type": "string"
            }
          },
          "metadata": {},
          "execution_count": 30
        }
      ]
    },
    {
      "cell_type": "code",
      "source": [
        "'''\n",
        "city_county_mapping={\"London\":1,\"Surrey\":2,\"Middlesex\":3,\"Essex\":4,\"rare\":5}\n",
        "london_data_dropped['City/County']=london_data_dropped['City/County'].map(city_county_mapping)\n",
        "'''"
      ],
      "metadata": {
        "id": "zOjcv2KPzeNq",
        "colab": {
          "base_uri": "https://localhost:8080/",
          "height": 35
        },
        "outputId": "3dde2f9b-a6bc-4727-aaca-2c4331d2d0cb"
      },
      "id": "zOjcv2KPzeNq",
      "execution_count": null,
      "outputs": [
        {
          "output_type": "execute_result",
          "data": {
            "text/plain": [
              "'\\ncity_county_mapping={\"London\":1,\"Surrey\":2,\"Middlesex\":3,\"Essex\":4,\"rare\":5}\\nlondon_data_dropped[\\'City/County\\']=london_data_dropped[\\'City/County\\'].map(city_county_mapping)\\n'"
            ],
            "application/vnd.google.colaboratory.intrinsic+json": {
              "type": "string"
            }
          },
          "metadata": {},
          "execution_count": 31
        }
      ]
    },
    {
      "cell_type": "code",
      "source": [
        "'''\n",
        "london_data_dropped['City/County'].unique()\n",
        "'''"
      ],
      "metadata": {
        "id": "IPXvIgTo3jaO",
        "colab": {
          "base_uri": "https://localhost:8080/",
          "height": 35
        },
        "outputId": "573911a5-c569-4adc-91b3-d0133a39e115"
      },
      "id": "IPXvIgTo3jaO",
      "execution_count": null,
      "outputs": [
        {
          "output_type": "execute_result",
          "data": {
            "text/plain": [
              "\"\\nlondon_data_dropped['City/County'].unique()\\n\""
            ],
            "application/vnd.google.colaboratory.intrinsic+json": {
              "type": "string"
            }
          },
          "metadata": {},
          "execution_count": 32
        }
      ]
    },
    {
      "cell_type": "code",
      "source": [
        "'''\n",
        "from sklearn.cluster import KMeans\n",
        "\n",
        "features = ['Price_per_sqft', 'Area in sq ft', 'No. of Bedrooms', 'No. of Bathrooms','House Type', 'No. of Receptions']\n",
        "kmeans = KMeans(n_clusters=2, random_state=42)\n",
        "london_data_dropped['Affordability'] = kmeans.fit_predict(london_data_dropped[features])\n",
        "\n",
        "label_map = {0: 'Affordable', 1: 'Unaffordable'}\n",
        "london_data_dropped['Affordability'] = london_data_dropped['Affordability'].map(label_map)\n",
        "london_data_dropped['Affordability'].value_counts()\n",
        "'''"
      ],
      "metadata": {
        "id": "KPox94kRoCop",
        "colab": {
          "base_uri": "https://localhost:8080/",
          "height": 70
        },
        "outputId": "3a7bb0a0-0a8b-40ba-d439-e015a087d86f"
      },
      "id": "KPox94kRoCop",
      "execution_count": null,
      "outputs": [
        {
          "output_type": "execute_result",
          "data": {
            "text/plain": [
              "\"\\nfrom sklearn.cluster import KMeans\\n\\nfeatures = ['Price_per_sqft', 'Area in sq ft', 'No. of Bedrooms', 'No. of Bathrooms','House Type', 'No. of Receptions']\\nkmeans = KMeans(n_clusters=2, random_state=42)\\nlondon_data_dropped['Affordability'] = kmeans.fit_predict(london_data_dropped[features])\\n\\nlabel_map = {0: 'Affordable', 1: 'Unaffordable'}\\nlondon_data_dropped['Affordability'] = london_data_dropped['Affordability'].map(label_map)\\nlondon_data_dropped['Affordability'].value_counts()\\n\""
            ],
            "application/vnd.google.colaboratory.intrinsic+json": {
              "type": "string"
            }
          },
          "metadata": {},
          "execution_count": 33
        }
      ]
    },
    {
      "cell_type": "code",
      "source": [
        "london_data_dropped\n",
        "london_data_dropped['Affordability'].value_counts()"
      ],
      "metadata": {
        "id": "RWnfuft64s3S",
        "colab": {
          "base_uri": "https://localhost:8080/",
          "height": 178
        },
        "outputId": "6f408d66-f983-4a2b-a5b6-44a209ddc665"
      },
      "id": "RWnfuft64s3S",
      "execution_count": null,
      "outputs": [
        {
          "output_type": "execute_result",
          "data": {
            "text/plain": [
              "Affordability\n",
              "1    2863\n",
              "0     617\n",
              "Name: count, dtype: int64"
            ],
            "text/html": [
              "<div>\n",
              "<style scoped>\n",
              "    .dataframe tbody tr th:only-of-type {\n",
              "        vertical-align: middle;\n",
              "    }\n",
              "\n",
              "    .dataframe tbody tr th {\n",
              "        vertical-align: top;\n",
              "    }\n",
              "\n",
              "    .dataframe thead th {\n",
              "        text-align: right;\n",
              "    }\n",
              "</style>\n",
              "<table border=\"1\" class=\"dataframe\">\n",
              "  <thead>\n",
              "    <tr style=\"text-align: right;\">\n",
              "      <th></th>\n",
              "      <th>count</th>\n",
              "    </tr>\n",
              "    <tr>\n",
              "      <th>Affordability</th>\n",
              "      <th></th>\n",
              "    </tr>\n",
              "  </thead>\n",
              "  <tbody>\n",
              "    <tr>\n",
              "      <th>1</th>\n",
              "      <td>2863</td>\n",
              "    </tr>\n",
              "    <tr>\n",
              "      <th>0</th>\n",
              "      <td>617</td>\n",
              "    </tr>\n",
              "  </tbody>\n",
              "</table>\n",
              "</div><br><label><b>dtype:</b> int64</label>"
            ]
          },
          "metadata": {},
          "execution_count": 34
        }
      ]
    },
    {
      "cell_type": "code",
      "source": [
        "# data cleaning\n",
        "# make the data numeric\n",
        "'''\n",
        "london_data_cleaned = london_data_dropped\n",
        "\n",
        "house_type_mapping = {\"House\": 1, \"Flat / Apartment\": 2}  # Adjust based on your unique values\n",
        "\n",
        "city_county_mapping = {city: idx + 1 for idx, city in enumerate(london_data_cleaned['City/County'].unique())}\n",
        "\n",
        "for dataset in [london_data_cleaned]:\n",
        "    dataset['House Type Encoded'] = dataset['House Type'].map(house_type_mapping)\n",
        "    dataset['City/County Encoded'] = dataset['City/County'].map(city_county_mapping)\n",
        "\n",
        "# Fill any missing values (if applicable) with 0\n",
        "london_data_cleaned['House Type Encoded'] = london_data_cleaned['House Type Encoded'].fillna(0)\n",
        "london_data_cleaned['City/County Encoded'] = london_data_cleaned['City/County Encoded'].fillna(0)\n",
        "\n",
        "print(london_data_cleaned[['House Type', 'House Type Encoded', 'City/County', 'City/County Encoded']].head())\n",
        "'''\n",
        "\n",
        "\n",
        "\n",
        "\n"
      ],
      "metadata": {
        "id": "2K9TX-AXiLDP",
        "colab": {
          "base_uri": "https://localhost:8080/",
          "height": 105
        },
        "outputId": "e1df1c37-6a9c-4d73-e020-ed883c37aefd"
      },
      "id": "2K9TX-AXiLDP",
      "execution_count": null,
      "outputs": [
        {
          "output_type": "execute_result",
          "data": {
            "text/plain": [
              "'\\nlondon_data_cleaned = london_data_dropped\\n\\nhouse_type_mapping = {\"House\": 1, \"Flat / Apartment\": 2}  # Adjust based on your unique values\\n\\ncity_county_mapping = {city: idx + 1 for idx, city in enumerate(london_data_cleaned[\\'City/County\\'].unique())}\\n\\nfor dataset in [london_data_cleaned]:\\n    dataset[\\'House Type Encoded\\'] = dataset[\\'House Type\\'].map(house_type_mapping)\\n    dataset[\\'City/County Encoded\\'] = dataset[\\'City/County\\'].map(city_county_mapping)\\n\\n# Fill any missing values (if applicable) with 0\\nlondon_data_cleaned[\\'House Type Encoded\\'] = london_data_cleaned[\\'House Type Encoded\\'].fillna(0)\\nlondon_data_cleaned[\\'City/County Encoded\\'] = london_data_cleaned[\\'City/County Encoded\\'].fillna(0)\\n\\nprint(london_data_cleaned[[\\'House Type\\', \\'House Type Encoded\\', \\'City/County\\', \\'City/County Encoded\\']].head())\\n'"
            ],
            "application/vnd.google.colaboratory.intrinsic+json": {
              "type": "string"
            }
          },
          "metadata": {},
          "execution_count": 35
        }
      ]
    },
    {
      "cell_type": "code",
      "source": [
        "# Create mappings for House Type and City/County\n",
        "'''\n",
        "house_type_mapping = {\"House\": 1, \"Flat / Apartment\": 2}  # Adjust based on your dataset\n",
        "city_county_mapping = {city: idx + 1 for idx, city in enumerate(london_data_cleaned['City/County'].unique())}\n",
        "\n",
        "london_data_cleaned['House Type Encoded'] = london_data_cleaned['House Type'].map(house_type_mapping)\n",
        "london_data_cleaned['City/County Encoded'] = london_data_cleaned['City/County'].map(city_county_mapping)\n",
        "\n",
        "london_data_cleaned['House Type Encoded'] = london_data_cleaned['House Type Encoded'].fillna(0)\n",
        "london_data_cleaned['City/County Encoded'] = london_data_cleaned['City/County Encoded'].fillna(0)\n",
        "\n",
        "london_data_cleaned.head()\n",
        "'''"
      ],
      "metadata": {
        "id": "tGS1aL4m5_Wh",
        "colab": {
          "base_uri": "https://localhost:8080/",
          "height": 87
        },
        "outputId": "ba31dcdb-a77a-43c4-b3f2-099915d1aff6"
      },
      "id": "tGS1aL4m5_Wh",
      "execution_count": null,
      "outputs": [
        {
          "output_type": "execute_result",
          "data": {
            "text/plain": [
              "'\\nhouse_type_mapping = {\"House\": 1, \"Flat / Apartment\": 2}  # Adjust based on your dataset\\ncity_county_mapping = {city: idx + 1 for idx, city in enumerate(london_data_cleaned[\\'City/County\\'].unique())}\\n\\nlondon_data_cleaned[\\'House Type Encoded\\'] = london_data_cleaned[\\'House Type\\'].map(house_type_mapping)\\nlondon_data_cleaned[\\'City/County Encoded\\'] = london_data_cleaned[\\'City/County\\'].map(city_county_mapping)\\n\\nlondon_data_cleaned[\\'House Type Encoded\\'] = london_data_cleaned[\\'House Type Encoded\\'].fillna(0)\\nlondon_data_cleaned[\\'City/County Encoded\\'] = london_data_cleaned[\\'City/County Encoded\\'].fillna(0)\\n\\nlondon_data_cleaned.head()\\n'"
            ],
            "application/vnd.google.colaboratory.intrinsic+json": {
              "type": "string"
            }
          },
          "metadata": {},
          "execution_count": 36
        }
      ]
    },
    {
      "cell_type": "code",
      "source": [
        "# Drop all non-numeric columns\n",
        "'''\n",
        "numeric_data = london_data_cleaned.select_dtypes(include=['number'])\n",
        "\n",
        "# Display the first few rows of the numeric-only dataset\n",
        "numeric_data.head()\n",
        "\n",
        "#house type 1.0 = House, 2.0= flat\n",
        "#city 1.0 = london\n",
        "'''"
      ],
      "metadata": {
        "id": "MrqdHOaJ6VIm",
        "colab": {
          "base_uri": "https://localhost:8080/",
          "height": 53
        },
        "outputId": "724933b4-98ee-47b8-c483-89745f6c3e54"
      },
      "id": "MrqdHOaJ6VIm",
      "execution_count": null,
      "outputs": [
        {
          "output_type": "execute_result",
          "data": {
            "text/plain": [
              "\"\\nnumeric_data = london_data_cleaned.select_dtypes(include=['number'])\\n\\n# Display the first few rows of the numeric-only dataset\\nnumeric_data.head()\\n\\n#house type 1.0 = House, 2.0= flat\\n#city 1.0 = london\\n\""
            ],
            "application/vnd.google.colaboratory.intrinsic+json": {
              "type": "string"
            }
          },
          "metadata": {},
          "execution_count": 37
        }
      ]
    },
    {
      "cell_type": "code",
      "source": [
        "'''data.groupby('No. of Bedrooms')['Affordability'].mean()'''"
      ],
      "metadata": {
        "id": "xmSR30yMpGeZ",
        "colab": {
          "base_uri": "https://localhost:8080/",
          "height": 35
        },
        "outputId": "8ebcd71a-d7ba-4522-945b-b22ba9192749"
      },
      "id": "xmSR30yMpGeZ",
      "execution_count": null,
      "outputs": [
        {
          "output_type": "execute_result",
          "data": {
            "text/plain": [
              "\"data.groupby('No. of Bedrooms')['Affordability'].mean()\""
            ],
            "application/vnd.google.colaboratory.intrinsic+json": {
              "type": "string"
            }
          },
          "metadata": {},
          "execution_count": 38
        }
      ]
    },
    {
      "cell_type": "code",
      "source": [
        "'''\n",
        "logreg = LogisticRegression()\n",
        "logreg.fit(X_train, y_train)\n",
        "y_pred = logreg.predict(X_test)\n",
        "print(classification_report(y_test, y_pred))\n",
        "'''"
      ],
      "metadata": {
        "id": "dTdSy4S73CmJ",
        "colab": {
          "base_uri": "https://localhost:8080/",
          "height": 35
        },
        "outputId": "7c1cd1d9-abda-4b0c-a597-b0da1e543b28"
      },
      "id": "dTdSy4S73CmJ",
      "execution_count": null,
      "outputs": [
        {
          "output_type": "execute_result",
          "data": {
            "text/plain": [
              "'\\nlogreg = LogisticRegression()\\nlogreg.fit(X_train, y_train)\\ny_pred = logreg.predict(X_test)\\nprint(classification_report(y_test, y_pred))\\n'"
            ],
            "application/vnd.google.colaboratory.intrinsic+json": {
              "type": "string"
            }
          },
          "metadata": {},
          "execution_count": 39
        }
      ]
    },
    {
      "cell_type": "code",
      "source": [
        "X = london_data_dropped.drop(columns=['Affordability'])  # Features used for prediction\n",
        "y = london_data_dropped['Affordability']  # Target labels\n",
        "\n",
        "# Split into training and testing sets\n",
        "X_train, X_test, y_train, y_test = train_test_split(X, y, test_size=0.2, random_state=42)"
      ],
      "metadata": {
        "id": "9aekPAoE1v2s"
      },
      "id": "9aekPAoE1v2s",
      "execution_count": null,
      "outputs": []
    },
    {
      "cell_type": "code",
      "source": [
        "#Gaussian Naive Bayes\n",
        "\n",
        "gaussian = GaussianNB()\n",
        "gaussian.fit(X_train, y_train)\n",
        "y_pred = gaussian.predict(X_test)\n",
        "acc_gaussian = round(gaussian.score(X_train, y_train) * 100, 2)\n",
        "acc_gaussian"
      ],
      "metadata": {
        "id": "Z3kWdcNhCbSh",
        "colab": {
          "base_uri": "https://localhost:8080/"
        },
        "outputId": "67f55fe8-3aea-44e9-c52a-45355249d863"
      },
      "id": "Z3kWdcNhCbSh",
      "execution_count": null,
      "outputs": [
        {
          "output_type": "execute_result",
          "data": {
            "text/plain": [
              "94.94"
            ]
          },
          "metadata": {},
          "execution_count": 41
        }
      ]
    },
    {
      "cell_type": "code",
      "source": [
        "#tuning model\n",
        "\n",
        "gaussian = GaussianNB(var_smoothing=1e-10)\n",
        "gaussian.fit(X_train, y_train)\n",
        "y_pred = gaussian.predict(X_test)\n",
        "acc_gaussian = round(gaussian.score(X_train, y_train) * 100, 2)\n",
        "acc_gaussian"
      ],
      "metadata": {
        "colab": {
          "base_uri": "https://localhost:8080/"
        },
        "id": "6hibVsS1HkrZ",
        "outputId": "e41f08fa-e166-4a09-80b4-857cb97c470f"
      },
      "id": "6hibVsS1HkrZ",
      "execution_count": null,
      "outputs": [
        {
          "output_type": "execute_result",
          "data": {
            "text/plain": [
              "96.84"
            ]
          },
          "metadata": {},
          "execution_count": 42
        }
      ]
    },
    {
      "cell_type": "code",
      "source": [
        "#Random Forest Classifier\n",
        "\n",
        "classifier = RandomForestClassifier()\n",
        "classifier.fit(X_train, y_train)\n",
        "y_pred = classifier.predict(X_test)\n",
        "acc_classifier = round(classifier.score(X_train, y_train) * 100, 2)\n",
        "acc_classifier"
      ],
      "metadata": {
        "id": "zjTpdM1vkwsv",
        "colab": {
          "base_uri": "https://localhost:8080/"
        },
        "outputId": "fb0dd04e-9fd9-4359-96f6-e29f8d7ffdef"
      },
      "id": "zjTpdM1vkwsv",
      "execution_count": null,
      "outputs": [
        {
          "output_type": "execute_result",
          "data": {
            "text/plain": [
              "100.0"
            ]
          },
          "metadata": {},
          "execution_count": 43
        }
      ]
    },
    {
      "cell_type": "code",
      "source": [
        "# Logistic Regression\n",
        "\n",
        "lr = LogisticRegression(max_iter=500)\n",
        "lr.fit(X_train, y_train)\n",
        "y_test=lr.predict(X_test)\n",
        "lr_score=round(lr.score(X_train,y_train)*100,2)\n",
        "lr_score"
      ],
      "metadata": {
        "id": "8mUjqxKflePE",
        "colab": {
          "base_uri": "https://localhost:8080/"
        },
        "outputId": "5b71f6ed-2622-4f38-87ad-09110f32156f"
      },
      "id": "8mUjqxKflePE",
      "execution_count": null,
      "outputs": [
        {
          "output_type": "execute_result",
          "data": {
            "text/plain": [
              "100.0"
            ]
          },
          "metadata": {},
          "execution_count": 46
        }
      ]
    },
    {
      "cell_type": "code",
      "source": [
        "'''\n",
        "# Scale the features\n",
        "scaler = StandardScaler()\n",
        "\n",
        "# Fit and transform the training data\n",
        "X_train_scaled = scaler.fit_transform(X_train)\n",
        "\n",
        "# Transform the test data\n",
        "X_test_scaled = scaler.transform(X_test)\n",
        "\n",
        "# Initialize the logistic regression model\n",
        "logreg = LogisticRegression(random_state=42)\n",
        "\n",
        "# Train the model\n",
        "logreg.fit(X_train_scaled, y_train)\n",
        "y_pred = logreg.predict(X_test_scaled)\n",
        "'''"
      ],
      "metadata": {
        "id": "sw3AMtvb9aQY",
        "colab": {
          "base_uri": "https://localhost:8080/",
          "height": 53
        },
        "outputId": "55008440-8f39-453c-d658-a780022250a9"
      },
      "id": "sw3AMtvb9aQY",
      "execution_count": null,
      "outputs": [
        {
          "output_type": "execute_result",
          "data": {
            "text/plain": [
              "'\\n# Scale the features\\nscaler = StandardScaler()\\n\\n# Fit and transform the training data\\nX_train_scaled = scaler.fit_transform(X_train)\\n\\n# Transform the test data\\nX_test_scaled = scaler.transform(X_test)\\n\\n# Initialize the logistic regression model\\nlogreg = LogisticRegression(random_state=42)\\n\\n# Train the model\\nlogreg.fit(X_train_scaled, y_train)\\ny_pred = logreg.predict(X_test_scaled)\\n'"
            ],
            "application/vnd.google.colaboratory.intrinsic+json": {
              "type": "string"
            }
          },
          "metadata": {},
          "execution_count": 45
        }
      ]
    }
  ],
  "metadata": {
    "kernelspec": {
      "display_name": "Python 3 (ipykernel)",
      "language": "python",
      "name": "python3"
    },
    "language_info": {
      "codemirror_mode": {
        "name": "ipython",
        "version": 3
      },
      "file_extension": ".py",
      "mimetype": "text/x-python",
      "name": "python",
      "nbconvert_exporter": "python",
      "pygments_lexer": "ipython3",
      "version": "3.12.4"
    },
    "colab": {
      "provenance": [],
      "include_colab_link": true
    }
  },
  "nbformat": 4,
  "nbformat_minor": 5
}